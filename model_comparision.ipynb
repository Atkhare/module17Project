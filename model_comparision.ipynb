{
 "cells": [
  {
   "cell_type": "markdown",
   "metadata": {},
   "source": [
    "# Practical Application III: Comparing Classifiers\n",
    "\n",
    "**Overview**: In this practical application, your goal is to compare the performance of the classifiers we encountered in this section, namely K Nearest Neighbor, Logistic Regression, Decision Trees, and Support Vector Machines.  We will utilize a dataset related to marketing bank products over the telephone.  \n",
    "\n"
   ]
  },
  {
   "cell_type": "markdown",
   "metadata": {},
   "source": [
    "### Getting Started\n",
    "\n",
    "Our dataset comes from the UCI Machine Learning repository [link](https://archive.ics.uci.edu/ml/datasets/bank+marketing).  The data is from a Portugese banking institution and is a collection of the results of multiple marketing campaigns.  We will make use of the article accompanying the dataset [here](CRISP-DM-BANK.pdf) for more information on the data and features.\n",
    "\n"
   ]
  },
  {
   "cell_type": "markdown",
   "metadata": {},
   "source": [
    "### Problem 1: Understanding the Data\n",
    "\n",
    "To gain a better understanding of the data, please read the information provided in the UCI link above, and examine the **Materials and Methods** section of the paper.  How many marketing campaigns does this data represent?"
   ]
  },
  {
   "cell_type": "markdown",
   "metadata": {},
   "source": [
    "To find the effectiveness of marketting campaigns, Portugese bank reached out to customers from their contact centers and collected the customer perspective. This collected data along with the internal customer data within bank was used to prepare the dataset features for analysis. The classification goal was to determine if a client will subscribe to a term deposite. The team used 3 iterartions of campaign to fine tune the predective model.    "
   ]
  },
  {
   "cell_type": "markdown",
   "metadata": {},
   "source": [
    "### Problem 2: Read in the Data\n",
    "\n",
    "Use pandas to read in the dataset `bank-additional-full.csv` and assign to a meaningful variable name."
   ]
  },
  {
   "cell_type": "code",
   "execution_count": 1,
   "metadata": {},
   "outputs": [],
   "source": [
    "## Imports for the project\n",
    "import pandas as pd\n",
    "import seaborn\n",
    "import plotly.express as px\n",
    "from pathlib import Path\n",
    "from sklearn.impute import SimpleImputer\n",
    "import sklearn  \n",
    "from sklearn.compose import ColumnTransformer\n",
    "from sklearn.preprocessing import TargetEncoder\n",
    "from sklearn.preprocessing import LabelEncoder\n",
    "import numpy as np\n",
    "from sklearn.discriminant_analysis import StandardScaler\n",
    "from sklearn.pipeline import Pipeline\n",
    "from sklearn.preprocessing import OneHotEncoder, OrdinalEncoder"
   ]
  },
  {
   "cell_type": "code",
   "execution_count": 2,
   "metadata": {},
   "outputs": [],
   "source": [
    "## Read the downloaded dataframe  \n",
    "df = pd.read_csv('data/bank-additional-full.csv', sep = ';')"
   ]
  },
  {
   "cell_type": "code",
   "execution_count": 3,
   "metadata": {},
   "outputs": [
    {
     "data": {
      "text/html": [
       "<div>\n",
       "<style scoped>\n",
       "    .dataframe tbody tr th:only-of-type {\n",
       "        vertical-align: middle;\n",
       "    }\n",
       "\n",
       "    .dataframe tbody tr th {\n",
       "        vertical-align: top;\n",
       "    }\n",
       "\n",
       "    .dataframe thead th {\n",
       "        text-align: right;\n",
       "    }\n",
       "</style>\n",
       "<table border=\"1\" class=\"dataframe\">\n",
       "  <thead>\n",
       "    <tr style=\"text-align: right;\">\n",
       "      <th></th>\n",
       "      <th>age</th>\n",
       "      <th>job</th>\n",
       "      <th>marital</th>\n",
       "      <th>education</th>\n",
       "      <th>default</th>\n",
       "      <th>housing</th>\n",
       "      <th>loan</th>\n",
       "      <th>contact</th>\n",
       "      <th>month</th>\n",
       "      <th>day_of_week</th>\n",
       "      <th>...</th>\n",
       "      <th>campaign</th>\n",
       "      <th>pdays</th>\n",
       "      <th>previous</th>\n",
       "      <th>poutcome</th>\n",
       "      <th>emp.var.rate</th>\n",
       "      <th>cons.price.idx</th>\n",
       "      <th>cons.conf.idx</th>\n",
       "      <th>euribor3m</th>\n",
       "      <th>nr.employed</th>\n",
       "      <th>y</th>\n",
       "    </tr>\n",
       "  </thead>\n",
       "  <tbody>\n",
       "    <tr>\n",
       "      <th>0</th>\n",
       "      <td>56</td>\n",
       "      <td>housemaid</td>\n",
       "      <td>married</td>\n",
       "      <td>basic.4y</td>\n",
       "      <td>no</td>\n",
       "      <td>no</td>\n",
       "      <td>no</td>\n",
       "      <td>telephone</td>\n",
       "      <td>may</td>\n",
       "      <td>mon</td>\n",
       "      <td>...</td>\n",
       "      <td>1</td>\n",
       "      <td>999</td>\n",
       "      <td>0</td>\n",
       "      <td>nonexistent</td>\n",
       "      <td>1.1</td>\n",
       "      <td>93.994</td>\n",
       "      <td>-36.4</td>\n",
       "      <td>4.857</td>\n",
       "      <td>5191.0</td>\n",
       "      <td>no</td>\n",
       "    </tr>\n",
       "    <tr>\n",
       "      <th>1</th>\n",
       "      <td>57</td>\n",
       "      <td>services</td>\n",
       "      <td>married</td>\n",
       "      <td>high.school</td>\n",
       "      <td>unknown</td>\n",
       "      <td>no</td>\n",
       "      <td>no</td>\n",
       "      <td>telephone</td>\n",
       "      <td>may</td>\n",
       "      <td>mon</td>\n",
       "      <td>...</td>\n",
       "      <td>1</td>\n",
       "      <td>999</td>\n",
       "      <td>0</td>\n",
       "      <td>nonexistent</td>\n",
       "      <td>1.1</td>\n",
       "      <td>93.994</td>\n",
       "      <td>-36.4</td>\n",
       "      <td>4.857</td>\n",
       "      <td>5191.0</td>\n",
       "      <td>no</td>\n",
       "    </tr>\n",
       "    <tr>\n",
       "      <th>2</th>\n",
       "      <td>37</td>\n",
       "      <td>services</td>\n",
       "      <td>married</td>\n",
       "      <td>high.school</td>\n",
       "      <td>no</td>\n",
       "      <td>yes</td>\n",
       "      <td>no</td>\n",
       "      <td>telephone</td>\n",
       "      <td>may</td>\n",
       "      <td>mon</td>\n",
       "      <td>...</td>\n",
       "      <td>1</td>\n",
       "      <td>999</td>\n",
       "      <td>0</td>\n",
       "      <td>nonexistent</td>\n",
       "      <td>1.1</td>\n",
       "      <td>93.994</td>\n",
       "      <td>-36.4</td>\n",
       "      <td>4.857</td>\n",
       "      <td>5191.0</td>\n",
       "      <td>no</td>\n",
       "    </tr>\n",
       "    <tr>\n",
       "      <th>3</th>\n",
       "      <td>40</td>\n",
       "      <td>admin.</td>\n",
       "      <td>married</td>\n",
       "      <td>basic.6y</td>\n",
       "      <td>no</td>\n",
       "      <td>no</td>\n",
       "      <td>no</td>\n",
       "      <td>telephone</td>\n",
       "      <td>may</td>\n",
       "      <td>mon</td>\n",
       "      <td>...</td>\n",
       "      <td>1</td>\n",
       "      <td>999</td>\n",
       "      <td>0</td>\n",
       "      <td>nonexistent</td>\n",
       "      <td>1.1</td>\n",
       "      <td>93.994</td>\n",
       "      <td>-36.4</td>\n",
       "      <td>4.857</td>\n",
       "      <td>5191.0</td>\n",
       "      <td>no</td>\n",
       "    </tr>\n",
       "    <tr>\n",
       "      <th>4</th>\n",
       "      <td>56</td>\n",
       "      <td>services</td>\n",
       "      <td>married</td>\n",
       "      <td>high.school</td>\n",
       "      <td>no</td>\n",
       "      <td>no</td>\n",
       "      <td>yes</td>\n",
       "      <td>telephone</td>\n",
       "      <td>may</td>\n",
       "      <td>mon</td>\n",
       "      <td>...</td>\n",
       "      <td>1</td>\n",
       "      <td>999</td>\n",
       "      <td>0</td>\n",
       "      <td>nonexistent</td>\n",
       "      <td>1.1</td>\n",
       "      <td>93.994</td>\n",
       "      <td>-36.4</td>\n",
       "      <td>4.857</td>\n",
       "      <td>5191.0</td>\n",
       "      <td>no</td>\n",
       "    </tr>\n",
       "  </tbody>\n",
       "</table>\n",
       "<p>5 rows × 21 columns</p>\n",
       "</div>"
      ],
      "text/plain": [
       "   age        job  marital    education  default housing loan    contact  \\\n",
       "0   56  housemaid  married     basic.4y       no      no   no  telephone   \n",
       "1   57   services  married  high.school  unknown      no   no  telephone   \n",
       "2   37   services  married  high.school       no     yes   no  telephone   \n",
       "3   40     admin.  married     basic.6y       no      no   no  telephone   \n",
       "4   56   services  married  high.school       no      no  yes  telephone   \n",
       "\n",
       "  month day_of_week  ...  campaign  pdays  previous     poutcome emp.var.rate  \\\n",
       "0   may         mon  ...         1    999         0  nonexistent          1.1   \n",
       "1   may         mon  ...         1    999         0  nonexistent          1.1   \n",
       "2   may         mon  ...         1    999         0  nonexistent          1.1   \n",
       "3   may         mon  ...         1    999         0  nonexistent          1.1   \n",
       "4   may         mon  ...         1    999         0  nonexistent          1.1   \n",
       "\n",
       "   cons.price.idx  cons.conf.idx  euribor3m  nr.employed   y  \n",
       "0          93.994          -36.4      4.857       5191.0  no  \n",
       "1          93.994          -36.4      4.857       5191.0  no  \n",
       "2          93.994          -36.4      4.857       5191.0  no  \n",
       "3          93.994          -36.4      4.857       5191.0  no  \n",
       "4          93.994          -36.4      4.857       5191.0  no  \n",
       "\n",
       "[5 rows x 21 columns]"
      ]
     },
     "execution_count": 3,
     "metadata": {},
     "output_type": "execute_result"
    }
   ],
   "source": [
    "## Check the dataset sample\n",
    "df.head()"
   ]
  },
  {
   "cell_type": "markdown",
   "metadata": {},
   "source": [
    "### Problem 3: Understanding the Features\n",
    "\n",
    "\n",
    "Examine the data description below, and determine if any of the features are missing values or need to be coerced to a different data type.\n",
    "\n",
    "\n",
    "```\n",
    "Input variables:\n",
    "# bank client data:\n",
    "1 - age (numeric)\n",
    "2 - job : type of job (categorical: 'admin.','blue-collar','entrepreneur','housemaid','management','retired','self-employed','services','student','technician','unemployed','unknown')\n",
    "3 - marital : marital status (categorical: 'divorced','married','single','unknown'; note: 'divorced' means divorced or widowed)\n",
    "4 - education (categorical: 'basic.4y','basic.6y','basic.9y','high.school','illiterate','professional.course','university.degree','unknown')\n",
    "5 - default: has credit in default? (categorical: 'no','yes','unknown')\n",
    "6 - housing: has housing loan? (categorical: 'no','yes','unknown')\n",
    "7 - loan: has personal loan? (categorical: 'no','yes','unknown')\n",
    "# related with the last contact of the current campaign:\n",
    "8 - contact: contact communication type (categorical: 'cellular','telephone')\n",
    "9 - month: last contact month of year (categorical: 'jan', 'feb', 'mar', ..., 'nov', 'dec')\n",
    "10 - day_of_week: last contact day of the week (categorical: 'mon','tue','wed','thu','fri')\n",
    "11 - duration: last contact duration, in seconds (numeric). Important note: this attribute highly affects the output target (e.g., if duration=0 then y='no'). Yet, the duration is not known before a call is performed. Also, after the end of the call y is obviously known. Thus, this input should only be included for benchmark purposes and should be discarded if the intention is to have a realistic predictive model.\n",
    "# other attributes:\n",
    "12 - campaign: number of contacts performed during this campaign and for this client (numeric, includes last contact)\n",
    "13 - pdays: number of days that passed by after the client was last contacted from a previous campaign (numeric; 999 means client was not previously contacted)\n",
    "14 - previous: number of contacts performed before this campaign and for this client (numeric)\n",
    "15 - poutcome: outcome of the previous marketing campaign (categorical: 'failure','nonexistent','success')\n",
    "# social and economic context attributes\n",
    "16 - emp.var.rate: employment variation rate - quarterly indicator (numeric)\n",
    "17 - cons.price.idx: consumer price index - monthly indicator (numeric)\n",
    "18 - cons.conf.idx: consumer confidence index - monthly indicator (numeric)\n",
    "19 - euribor3m: euribor 3 month rate - daily indicator (numeric)\n",
    "20 - nr.employed: number of employees - quarterly indicator (numeric)\n",
    "\n",
    "Output variable (desired target):\n",
    "21 - y - has the client subscribed a term deposit? (binary: 'yes','no')\n",
    "```\n",
    "\n"
   ]
  },
  {
   "cell_type": "code",
   "execution_count": 4,
   "metadata": {},
   "outputs": [
    {
     "data": {
      "text/plain": [
       "age               0\n",
       "job               0\n",
       "marital           0\n",
       "education         0\n",
       "default           0\n",
       "housing           0\n",
       "loan              0\n",
       "contact           0\n",
       "month             0\n",
       "day_of_week       0\n",
       "duration          0\n",
       "campaign          0\n",
       "pdays             0\n",
       "previous          0\n",
       "poutcome          0\n",
       "emp.var.rate      0\n",
       "cons.price.idx    0\n",
       "cons.conf.idx     0\n",
       "euribor3m         0\n",
       "nr.employed       0\n",
       "y                 0\n",
       "dtype: int64"
      ]
     },
     "execution_count": 4,
     "metadata": {},
     "output_type": "execute_result"
    }
   ],
   "source": [
    "## Checking for Null/ NAN values in dataframe\n",
    "df.isnull().sum()"
   ]
  },
  {
   "cell_type": "code",
   "execution_count": 5,
   "metadata": {},
   "outputs": [
    {
     "data": {
      "application/vnd.plotly.v1+json": {
       "config": {
        "plotlyServerURL": "https://plot.ly"
       },
       "data": [
        {
         "domain": {
          "x": [
           0,
           1
          ],
          "y": [
           0,
           1
          ]
         },
         "hovertemplate": "y=%{label}<br>count=%{value}<extra></extra>",
         "labels": [
          "no",
          "yes"
         ],
         "legendgroup": "",
         "name": "",
         "showlegend": true,
         "type": "pie",
         "values": [
          36548,
          4640
         ]
        }
       ],
       "layout": {
        "height": 330,
        "legend": {
         "tracegroupgap": 0
        },
        "template": {
         "data": {
          "bar": [
           {
            "error_x": {
             "color": "#2a3f5f"
            },
            "error_y": {
             "color": "#2a3f5f"
            },
            "marker": {
             "line": {
              "color": "#E5ECF6",
              "width": 0.5
             },
             "pattern": {
              "fillmode": "overlay",
              "size": 10,
              "solidity": 0.2
             }
            },
            "type": "bar"
           }
          ],
          "barpolar": [
           {
            "marker": {
             "line": {
              "color": "#E5ECF6",
              "width": 0.5
             },
             "pattern": {
              "fillmode": "overlay",
              "size": 10,
              "solidity": 0.2
             }
            },
            "type": "barpolar"
           }
          ],
          "carpet": [
           {
            "aaxis": {
             "endlinecolor": "#2a3f5f",
             "gridcolor": "white",
             "linecolor": "white",
             "minorgridcolor": "white",
             "startlinecolor": "#2a3f5f"
            },
            "baxis": {
             "endlinecolor": "#2a3f5f",
             "gridcolor": "white",
             "linecolor": "white",
             "minorgridcolor": "white",
             "startlinecolor": "#2a3f5f"
            },
            "type": "carpet"
           }
          ],
          "choropleth": [
           {
            "colorbar": {
             "outlinewidth": 0,
             "ticks": ""
            },
            "type": "choropleth"
           }
          ],
          "contour": [
           {
            "colorbar": {
             "outlinewidth": 0,
             "ticks": ""
            },
            "colorscale": [
             [
              0,
              "#0d0887"
             ],
             [
              0.1111111111111111,
              "#46039f"
             ],
             [
              0.2222222222222222,
              "#7201a8"
             ],
             [
              0.3333333333333333,
              "#9c179e"
             ],
             [
              0.4444444444444444,
              "#bd3786"
             ],
             [
              0.5555555555555556,
              "#d8576b"
             ],
             [
              0.6666666666666666,
              "#ed7953"
             ],
             [
              0.7777777777777778,
              "#fb9f3a"
             ],
             [
              0.8888888888888888,
              "#fdca26"
             ],
             [
              1,
              "#f0f921"
             ]
            ],
            "type": "contour"
           }
          ],
          "contourcarpet": [
           {
            "colorbar": {
             "outlinewidth": 0,
             "ticks": ""
            },
            "type": "contourcarpet"
           }
          ],
          "heatmap": [
           {
            "colorbar": {
             "outlinewidth": 0,
             "ticks": ""
            },
            "colorscale": [
             [
              0,
              "#0d0887"
             ],
             [
              0.1111111111111111,
              "#46039f"
             ],
             [
              0.2222222222222222,
              "#7201a8"
             ],
             [
              0.3333333333333333,
              "#9c179e"
             ],
             [
              0.4444444444444444,
              "#bd3786"
             ],
             [
              0.5555555555555556,
              "#d8576b"
             ],
             [
              0.6666666666666666,
              "#ed7953"
             ],
             [
              0.7777777777777778,
              "#fb9f3a"
             ],
             [
              0.8888888888888888,
              "#fdca26"
             ],
             [
              1,
              "#f0f921"
             ]
            ],
            "type": "heatmap"
           }
          ],
          "heatmapgl": [
           {
            "colorbar": {
             "outlinewidth": 0,
             "ticks": ""
            },
            "colorscale": [
             [
              0,
              "#0d0887"
             ],
             [
              0.1111111111111111,
              "#46039f"
             ],
             [
              0.2222222222222222,
              "#7201a8"
             ],
             [
              0.3333333333333333,
              "#9c179e"
             ],
             [
              0.4444444444444444,
              "#bd3786"
             ],
             [
              0.5555555555555556,
              "#d8576b"
             ],
             [
              0.6666666666666666,
              "#ed7953"
             ],
             [
              0.7777777777777778,
              "#fb9f3a"
             ],
             [
              0.8888888888888888,
              "#fdca26"
             ],
             [
              1,
              "#f0f921"
             ]
            ],
            "type": "heatmapgl"
           }
          ],
          "histogram": [
           {
            "marker": {
             "pattern": {
              "fillmode": "overlay",
              "size": 10,
              "solidity": 0.2
             }
            },
            "type": "histogram"
           }
          ],
          "histogram2d": [
           {
            "colorbar": {
             "outlinewidth": 0,
             "ticks": ""
            },
            "colorscale": [
             [
              0,
              "#0d0887"
             ],
             [
              0.1111111111111111,
              "#46039f"
             ],
             [
              0.2222222222222222,
              "#7201a8"
             ],
             [
              0.3333333333333333,
              "#9c179e"
             ],
             [
              0.4444444444444444,
              "#bd3786"
             ],
             [
              0.5555555555555556,
              "#d8576b"
             ],
             [
              0.6666666666666666,
              "#ed7953"
             ],
             [
              0.7777777777777778,
              "#fb9f3a"
             ],
             [
              0.8888888888888888,
              "#fdca26"
             ],
             [
              1,
              "#f0f921"
             ]
            ],
            "type": "histogram2d"
           }
          ],
          "histogram2dcontour": [
           {
            "colorbar": {
             "outlinewidth": 0,
             "ticks": ""
            },
            "colorscale": [
             [
              0,
              "#0d0887"
             ],
             [
              0.1111111111111111,
              "#46039f"
             ],
             [
              0.2222222222222222,
              "#7201a8"
             ],
             [
              0.3333333333333333,
              "#9c179e"
             ],
             [
              0.4444444444444444,
              "#bd3786"
             ],
             [
              0.5555555555555556,
              "#d8576b"
             ],
             [
              0.6666666666666666,
              "#ed7953"
             ],
             [
              0.7777777777777778,
              "#fb9f3a"
             ],
             [
              0.8888888888888888,
              "#fdca26"
             ],
             [
              1,
              "#f0f921"
             ]
            ],
            "type": "histogram2dcontour"
           }
          ],
          "mesh3d": [
           {
            "colorbar": {
             "outlinewidth": 0,
             "ticks": ""
            },
            "type": "mesh3d"
           }
          ],
          "parcoords": [
           {
            "line": {
             "colorbar": {
              "outlinewidth": 0,
              "ticks": ""
             }
            },
            "type": "parcoords"
           }
          ],
          "pie": [
           {
            "automargin": true,
            "type": "pie"
           }
          ],
          "scatter": [
           {
            "fillpattern": {
             "fillmode": "overlay",
             "size": 10,
             "solidity": 0.2
            },
            "type": "scatter"
           }
          ],
          "scatter3d": [
           {
            "line": {
             "colorbar": {
              "outlinewidth": 0,
              "ticks": ""
             }
            },
            "marker": {
             "colorbar": {
              "outlinewidth": 0,
              "ticks": ""
             }
            },
            "type": "scatter3d"
           }
          ],
          "scattercarpet": [
           {
            "marker": {
             "colorbar": {
              "outlinewidth": 0,
              "ticks": ""
             }
            },
            "type": "scattercarpet"
           }
          ],
          "scattergeo": [
           {
            "marker": {
             "colorbar": {
              "outlinewidth": 0,
              "ticks": ""
             }
            },
            "type": "scattergeo"
           }
          ],
          "scattergl": [
           {
            "marker": {
             "colorbar": {
              "outlinewidth": 0,
              "ticks": ""
             }
            },
            "type": "scattergl"
           }
          ],
          "scattermapbox": [
           {
            "marker": {
             "colorbar": {
              "outlinewidth": 0,
              "ticks": ""
             }
            },
            "type": "scattermapbox"
           }
          ],
          "scatterpolar": [
           {
            "marker": {
             "colorbar": {
              "outlinewidth": 0,
              "ticks": ""
             }
            },
            "type": "scatterpolar"
           }
          ],
          "scatterpolargl": [
           {
            "marker": {
             "colorbar": {
              "outlinewidth": 0,
              "ticks": ""
             }
            },
            "type": "scatterpolargl"
           }
          ],
          "scatterternary": [
           {
            "marker": {
             "colorbar": {
              "outlinewidth": 0,
              "ticks": ""
             }
            },
            "type": "scatterternary"
           }
          ],
          "surface": [
           {
            "colorbar": {
             "outlinewidth": 0,
             "ticks": ""
            },
            "colorscale": [
             [
              0,
              "#0d0887"
             ],
             [
              0.1111111111111111,
              "#46039f"
             ],
             [
              0.2222222222222222,
              "#7201a8"
             ],
             [
              0.3333333333333333,
              "#9c179e"
             ],
             [
              0.4444444444444444,
              "#bd3786"
             ],
             [
              0.5555555555555556,
              "#d8576b"
             ],
             [
              0.6666666666666666,
              "#ed7953"
             ],
             [
              0.7777777777777778,
              "#fb9f3a"
             ],
             [
              0.8888888888888888,
              "#fdca26"
             ],
             [
              1,
              "#f0f921"
             ]
            ],
            "type": "surface"
           }
          ],
          "table": [
           {
            "cells": {
             "fill": {
              "color": "#EBF0F8"
             },
             "line": {
              "color": "white"
             }
            },
            "header": {
             "fill": {
              "color": "#C8D4E3"
             },
             "line": {
              "color": "white"
             }
            },
            "type": "table"
           }
          ]
         },
         "layout": {
          "annotationdefaults": {
           "arrowcolor": "#2a3f5f",
           "arrowhead": 0,
           "arrowwidth": 1
          },
          "autotypenumbers": "strict",
          "coloraxis": {
           "colorbar": {
            "outlinewidth": 0,
            "ticks": ""
           }
          },
          "colorscale": {
           "diverging": [
            [
             0,
             "#8e0152"
            ],
            [
             0.1,
             "#c51b7d"
            ],
            [
             0.2,
             "#de77ae"
            ],
            [
             0.3,
             "#f1b6da"
            ],
            [
             0.4,
             "#fde0ef"
            ],
            [
             0.5,
             "#f7f7f7"
            ],
            [
             0.6,
             "#e6f5d0"
            ],
            [
             0.7,
             "#b8e186"
            ],
            [
             0.8,
             "#7fbc41"
            ],
            [
             0.9,
             "#4d9221"
            ],
            [
             1,
             "#276419"
            ]
           ],
           "sequential": [
            [
             0,
             "#0d0887"
            ],
            [
             0.1111111111111111,
             "#46039f"
            ],
            [
             0.2222222222222222,
             "#7201a8"
            ],
            [
             0.3333333333333333,
             "#9c179e"
            ],
            [
             0.4444444444444444,
             "#bd3786"
            ],
            [
             0.5555555555555556,
             "#d8576b"
            ],
            [
             0.6666666666666666,
             "#ed7953"
            ],
            [
             0.7777777777777778,
             "#fb9f3a"
            ],
            [
             0.8888888888888888,
             "#fdca26"
            ],
            [
             1,
             "#f0f921"
            ]
           ],
           "sequentialminus": [
            [
             0,
             "#0d0887"
            ],
            [
             0.1111111111111111,
             "#46039f"
            ],
            [
             0.2222222222222222,
             "#7201a8"
            ],
            [
             0.3333333333333333,
             "#9c179e"
            ],
            [
             0.4444444444444444,
             "#bd3786"
            ],
            [
             0.5555555555555556,
             "#d8576b"
            ],
            [
             0.6666666666666666,
             "#ed7953"
            ],
            [
             0.7777777777777778,
             "#fb9f3a"
            ],
            [
             0.8888888888888888,
             "#fdca26"
            ],
            [
             1,
             "#f0f921"
            ]
           ]
          },
          "colorway": [
           "#636efa",
           "#EF553B",
           "#00cc96",
           "#ab63fa",
           "#FFA15A",
           "#19d3f3",
           "#FF6692",
           "#B6E880",
           "#FF97FF",
           "#FECB52"
          ],
          "font": {
           "color": "#2a3f5f"
          },
          "geo": {
           "bgcolor": "white",
           "lakecolor": "white",
           "landcolor": "#E5ECF6",
           "showlakes": true,
           "showland": true,
           "subunitcolor": "white"
          },
          "hoverlabel": {
           "align": "left"
          },
          "hovermode": "closest",
          "mapbox": {
           "style": "light"
          },
          "paper_bgcolor": "white",
          "plot_bgcolor": "#E5ECF6",
          "polar": {
           "angularaxis": {
            "gridcolor": "white",
            "linecolor": "white",
            "ticks": ""
           },
           "bgcolor": "#E5ECF6",
           "radialaxis": {
            "gridcolor": "white",
            "linecolor": "white",
            "ticks": ""
           }
          },
          "scene": {
           "xaxis": {
            "backgroundcolor": "#E5ECF6",
            "gridcolor": "white",
            "gridwidth": 2,
            "linecolor": "white",
            "showbackground": true,
            "ticks": "",
            "zerolinecolor": "white"
           },
           "yaxis": {
            "backgroundcolor": "#E5ECF6",
            "gridcolor": "white",
            "gridwidth": 2,
            "linecolor": "white",
            "showbackground": true,
            "ticks": "",
            "zerolinecolor": "white"
           },
           "zaxis": {
            "backgroundcolor": "#E5ECF6",
            "gridcolor": "white",
            "gridwidth": 2,
            "linecolor": "white",
            "showbackground": true,
            "ticks": "",
            "zerolinecolor": "white"
           }
          },
          "shapedefaults": {
           "line": {
            "color": "#2a3f5f"
           }
          },
          "ternary": {
           "aaxis": {
            "gridcolor": "white",
            "linecolor": "white",
            "ticks": ""
           },
           "baxis": {
            "gridcolor": "white",
            "linecolor": "white",
            "ticks": ""
           },
           "bgcolor": "#E5ECF6",
           "caxis": {
            "gridcolor": "white",
            "linecolor": "white",
            "ticks": ""
           }
          },
          "title": {
           "x": 0.05
          },
          "xaxis": {
           "automargin": true,
           "gridcolor": "white",
           "linecolor": "white",
           "ticks": "",
           "title": {
            "standoff": 15
           },
           "zerolinecolor": "white",
           "zerolinewidth": 2
          },
          "yaxis": {
           "automargin": true,
           "gridcolor": "white",
           "linecolor": "white",
           "ticks": "",
           "title": {
            "standoff": 15
           },
           "zerolinecolor": "white",
           "zerolinewidth": 2
          }
         }
        },
        "title": {
         "text": "Customer Subscribe to Term-deposite"
        },
        "width": 400
       }
      }
     },
     "metadata": {},
     "output_type": "display_data"
    }
   ],
   "source": [
    "## Evaluate the traget valiable of the classifier.\n",
    "fig = px.pie(df[['y']].value_counts().reset_index(), values='count', names='y' ,height=330, width=400,title='Customer Subscribe to Term-deposite')\n",
    "fig.show() \n",
    "\n",
    "## Note: The data shows high imbalance in Target class with ~11% customer agreeing to subscribe deposite term  "
   ]
  },
  {
   "cell_type": "code",
   "execution_count": 6,
   "metadata": {},
   "outputs": [],
   "source": [
    "## The code print the feature values unique count for analysis. The report generated by this step will be used to analyse the feature grouping and volume of unknows present in the feature ##\n",
    "\n",
    "## The output of this step will be written to relative path \n",
    "\n",
    "with open('data/output.txt', 'w') as f:\n",
    "   for i in ['job', 'marital', 'education', 'default', 'housing', 'loan',\n",
    "          'contact', 'month', 'day_of_week', 'campaign', 'pdays',\n",
    "          'previous', 'poutcome', 'emp.var.rate', 'cons.price.idx',\n",
    "         'cons.conf.idx', 'euribor3m', 'nr.employed', 'y']:\n",
    "         p = []\n",
    "         p = df[[i]].value_counts().reset_index()\n",
    "         f.write(i)\n",
    "         f.write('\\n\\n')\n",
    "         f.write(p.to_string(index=False))\n",
    "         f.write('\\n\\n')  # Add blank lines between DataFrames\n",
    "   f.close()"
   ]
  },
  {
   "cell_type": "code",
   "execution_count": 7,
   "metadata": {},
   "outputs": [
    {
     "data": {
      "text/html": [
       "<div>\n",
       "<style scoped>\n",
       "    .dataframe tbody tr th:only-of-type {\n",
       "        vertical-align: middle;\n",
       "    }\n",
       "\n",
       "    .dataframe tbody tr th {\n",
       "        vertical-align: top;\n",
       "    }\n",
       "\n",
       "    .dataframe thead th {\n",
       "        text-align: right;\n",
       "    }\n",
       "</style>\n",
       "<table border=\"1\" class=\"dataframe\">\n",
       "  <thead>\n",
       "    <tr style=\"text-align: right;\">\n",
       "      <th></th>\n",
       "      <th>age</th>\n",
       "      <th>job</th>\n",
       "      <th>marital</th>\n",
       "      <th>education</th>\n",
       "      <th>default</th>\n",
       "      <th>housing</th>\n",
       "      <th>loan</th>\n",
       "      <th>contact</th>\n",
       "      <th>month</th>\n",
       "      <th>day_of_week</th>\n",
       "      <th>...</th>\n",
       "      <th>campaign</th>\n",
       "      <th>pdays</th>\n",
       "      <th>previous</th>\n",
       "      <th>poutcome</th>\n",
       "      <th>emp.var.rate</th>\n",
       "      <th>cons.price.idx</th>\n",
       "      <th>cons.conf.idx</th>\n",
       "      <th>euribor3m</th>\n",
       "      <th>nr.employed</th>\n",
       "      <th>y</th>\n",
       "    </tr>\n",
       "  </thead>\n",
       "  <tbody>\n",
       "    <tr>\n",
       "      <th>0</th>\n",
       "      <td>56</td>\n",
       "      <td>housemaid</td>\n",
       "      <td>married</td>\n",
       "      <td>basic.4y</td>\n",
       "      <td>no</td>\n",
       "      <td>no</td>\n",
       "      <td>no</td>\n",
       "      <td>telephone</td>\n",
       "      <td>may</td>\n",
       "      <td>mon</td>\n",
       "      <td>...</td>\n",
       "      <td>1</td>\n",
       "      <td>999</td>\n",
       "      <td>0</td>\n",
       "      <td>nonexistent</td>\n",
       "      <td>1.1</td>\n",
       "      <td>93.994</td>\n",
       "      <td>-36.4</td>\n",
       "      <td>4.857</td>\n",
       "      <td>5191.0</td>\n",
       "      <td>no</td>\n",
       "    </tr>\n",
       "    <tr>\n",
       "      <th>1</th>\n",
       "      <td>57</td>\n",
       "      <td>services</td>\n",
       "      <td>married</td>\n",
       "      <td>high.school</td>\n",
       "      <td>no</td>\n",
       "      <td>no</td>\n",
       "      <td>no</td>\n",
       "      <td>telephone</td>\n",
       "      <td>may</td>\n",
       "      <td>mon</td>\n",
       "      <td>...</td>\n",
       "      <td>1</td>\n",
       "      <td>999</td>\n",
       "      <td>0</td>\n",
       "      <td>nonexistent</td>\n",
       "      <td>1.1</td>\n",
       "      <td>93.994</td>\n",
       "      <td>-36.4</td>\n",
       "      <td>4.857</td>\n",
       "      <td>5191.0</td>\n",
       "      <td>no</td>\n",
       "    </tr>\n",
       "    <tr>\n",
       "      <th>2</th>\n",
       "      <td>37</td>\n",
       "      <td>services</td>\n",
       "      <td>married</td>\n",
       "      <td>high.school</td>\n",
       "      <td>no</td>\n",
       "      <td>yes</td>\n",
       "      <td>no</td>\n",
       "      <td>telephone</td>\n",
       "      <td>may</td>\n",
       "      <td>mon</td>\n",
       "      <td>...</td>\n",
       "      <td>1</td>\n",
       "      <td>999</td>\n",
       "      <td>0</td>\n",
       "      <td>nonexistent</td>\n",
       "      <td>1.1</td>\n",
       "      <td>93.994</td>\n",
       "      <td>-36.4</td>\n",
       "      <td>4.857</td>\n",
       "      <td>5191.0</td>\n",
       "      <td>no</td>\n",
       "    </tr>\n",
       "    <tr>\n",
       "      <th>3</th>\n",
       "      <td>40</td>\n",
       "      <td>admin.</td>\n",
       "      <td>married</td>\n",
       "      <td>basic.6y</td>\n",
       "      <td>no</td>\n",
       "      <td>no</td>\n",
       "      <td>no</td>\n",
       "      <td>telephone</td>\n",
       "      <td>may</td>\n",
       "      <td>mon</td>\n",
       "      <td>...</td>\n",
       "      <td>1</td>\n",
       "      <td>999</td>\n",
       "      <td>0</td>\n",
       "      <td>nonexistent</td>\n",
       "      <td>1.1</td>\n",
       "      <td>93.994</td>\n",
       "      <td>-36.4</td>\n",
       "      <td>4.857</td>\n",
       "      <td>5191.0</td>\n",
       "      <td>no</td>\n",
       "    </tr>\n",
       "    <tr>\n",
       "      <th>4</th>\n",
       "      <td>56</td>\n",
       "      <td>services</td>\n",
       "      <td>married</td>\n",
       "      <td>high.school</td>\n",
       "      <td>no</td>\n",
       "      <td>no</td>\n",
       "      <td>yes</td>\n",
       "      <td>telephone</td>\n",
       "      <td>may</td>\n",
       "      <td>mon</td>\n",
       "      <td>...</td>\n",
       "      <td>1</td>\n",
       "      <td>999</td>\n",
       "      <td>0</td>\n",
       "      <td>nonexistent</td>\n",
       "      <td>1.1</td>\n",
       "      <td>93.994</td>\n",
       "      <td>-36.4</td>\n",
       "      <td>4.857</td>\n",
       "      <td>5191.0</td>\n",
       "      <td>no</td>\n",
       "    </tr>\n",
       "    <tr>\n",
       "      <th>...</th>\n",
       "      <td>...</td>\n",
       "      <td>...</td>\n",
       "      <td>...</td>\n",
       "      <td>...</td>\n",
       "      <td>...</td>\n",
       "      <td>...</td>\n",
       "      <td>...</td>\n",
       "      <td>...</td>\n",
       "      <td>...</td>\n",
       "      <td>...</td>\n",
       "      <td>...</td>\n",
       "      <td>...</td>\n",
       "      <td>...</td>\n",
       "      <td>...</td>\n",
       "      <td>...</td>\n",
       "      <td>...</td>\n",
       "      <td>...</td>\n",
       "      <td>...</td>\n",
       "      <td>...</td>\n",
       "      <td>...</td>\n",
       "      <td>...</td>\n",
       "    </tr>\n",
       "    <tr>\n",
       "      <th>41183</th>\n",
       "      <td>73</td>\n",
       "      <td>retired</td>\n",
       "      <td>married</td>\n",
       "      <td>professional.course</td>\n",
       "      <td>no</td>\n",
       "      <td>yes</td>\n",
       "      <td>no</td>\n",
       "      <td>cellular</td>\n",
       "      <td>nov</td>\n",
       "      <td>fri</td>\n",
       "      <td>...</td>\n",
       "      <td>1</td>\n",
       "      <td>999</td>\n",
       "      <td>0</td>\n",
       "      <td>nonexistent</td>\n",
       "      <td>-1.1</td>\n",
       "      <td>94.767</td>\n",
       "      <td>-50.8</td>\n",
       "      <td>1.028</td>\n",
       "      <td>4963.6</td>\n",
       "      <td>yes</td>\n",
       "    </tr>\n",
       "    <tr>\n",
       "      <th>41184</th>\n",
       "      <td>46</td>\n",
       "      <td>blue-collar</td>\n",
       "      <td>married</td>\n",
       "      <td>professional.course</td>\n",
       "      <td>no</td>\n",
       "      <td>no</td>\n",
       "      <td>no</td>\n",
       "      <td>cellular</td>\n",
       "      <td>nov</td>\n",
       "      <td>fri</td>\n",
       "      <td>...</td>\n",
       "      <td>1</td>\n",
       "      <td>999</td>\n",
       "      <td>0</td>\n",
       "      <td>nonexistent</td>\n",
       "      <td>-1.1</td>\n",
       "      <td>94.767</td>\n",
       "      <td>-50.8</td>\n",
       "      <td>1.028</td>\n",
       "      <td>4963.6</td>\n",
       "      <td>no</td>\n",
       "    </tr>\n",
       "    <tr>\n",
       "      <th>41185</th>\n",
       "      <td>56</td>\n",
       "      <td>retired</td>\n",
       "      <td>married</td>\n",
       "      <td>university.degree</td>\n",
       "      <td>no</td>\n",
       "      <td>yes</td>\n",
       "      <td>no</td>\n",
       "      <td>cellular</td>\n",
       "      <td>nov</td>\n",
       "      <td>fri</td>\n",
       "      <td>...</td>\n",
       "      <td>2</td>\n",
       "      <td>999</td>\n",
       "      <td>0</td>\n",
       "      <td>nonexistent</td>\n",
       "      <td>-1.1</td>\n",
       "      <td>94.767</td>\n",
       "      <td>-50.8</td>\n",
       "      <td>1.028</td>\n",
       "      <td>4963.6</td>\n",
       "      <td>no</td>\n",
       "    </tr>\n",
       "    <tr>\n",
       "      <th>41186</th>\n",
       "      <td>44</td>\n",
       "      <td>technician</td>\n",
       "      <td>married</td>\n",
       "      <td>professional.course</td>\n",
       "      <td>no</td>\n",
       "      <td>no</td>\n",
       "      <td>no</td>\n",
       "      <td>cellular</td>\n",
       "      <td>nov</td>\n",
       "      <td>fri</td>\n",
       "      <td>...</td>\n",
       "      <td>1</td>\n",
       "      <td>999</td>\n",
       "      <td>0</td>\n",
       "      <td>nonexistent</td>\n",
       "      <td>-1.1</td>\n",
       "      <td>94.767</td>\n",
       "      <td>-50.8</td>\n",
       "      <td>1.028</td>\n",
       "      <td>4963.6</td>\n",
       "      <td>yes</td>\n",
       "    </tr>\n",
       "    <tr>\n",
       "      <th>41187</th>\n",
       "      <td>74</td>\n",
       "      <td>retired</td>\n",
       "      <td>married</td>\n",
       "      <td>professional.course</td>\n",
       "      <td>no</td>\n",
       "      <td>yes</td>\n",
       "      <td>no</td>\n",
       "      <td>cellular</td>\n",
       "      <td>nov</td>\n",
       "      <td>fri</td>\n",
       "      <td>...</td>\n",
       "      <td>3</td>\n",
       "      <td>999</td>\n",
       "      <td>1</td>\n",
       "      <td>failure</td>\n",
       "      <td>-1.1</td>\n",
       "      <td>94.767</td>\n",
       "      <td>-50.8</td>\n",
       "      <td>1.028</td>\n",
       "      <td>4963.6</td>\n",
       "      <td>no</td>\n",
       "    </tr>\n",
       "  </tbody>\n",
       "</table>\n",
       "<p>41188 rows × 21 columns</p>\n",
       "</div>"
      ],
      "text/plain": [
       "      age          job  marital            education default housing loan  \\\n",
       "0      56    housemaid  married             basic.4y      no      no   no   \n",
       "1      57     services  married          high.school      no      no   no   \n",
       "2      37     services  married          high.school      no     yes   no   \n",
       "3      40       admin.  married             basic.6y      no      no   no   \n",
       "4      56     services  married          high.school      no      no  yes   \n",
       "...    ..          ...      ...                  ...     ...     ...  ...   \n",
       "41183  73      retired  married  professional.course      no     yes   no   \n",
       "41184  46  blue-collar  married  professional.course      no      no   no   \n",
       "41185  56      retired  married    university.degree      no     yes   no   \n",
       "41186  44   technician  married  professional.course      no      no   no   \n",
       "41187  74      retired  married  professional.course      no     yes   no   \n",
       "\n",
       "         contact month day_of_week  ... campaign pdays previous     poutcome  \\\n",
       "0      telephone   may         mon  ...        1   999        0  nonexistent   \n",
       "1      telephone   may         mon  ...        1   999        0  nonexistent   \n",
       "2      telephone   may         mon  ...        1   999        0  nonexistent   \n",
       "3      telephone   may         mon  ...        1   999        0  nonexistent   \n",
       "4      telephone   may         mon  ...        1   999        0  nonexistent   \n",
       "...          ...   ...         ...  ...      ...   ...      ...          ...   \n",
       "41183   cellular   nov         fri  ...        1   999        0  nonexistent   \n",
       "41184   cellular   nov         fri  ...        1   999        0  nonexistent   \n",
       "41185   cellular   nov         fri  ...        2   999        0  nonexistent   \n",
       "41186   cellular   nov         fri  ...        1   999        0  nonexistent   \n",
       "41187   cellular   nov         fri  ...        3   999        1      failure   \n",
       "\n",
       "      emp.var.rate cons.price.idx cons.conf.idx euribor3m nr.employed    y  \n",
       "0              1.1         93.994         -36.4     4.857      5191.0   no  \n",
       "1              1.1         93.994         -36.4     4.857      5191.0   no  \n",
       "2              1.1         93.994         -36.4     4.857      5191.0   no  \n",
       "3              1.1         93.994         -36.4     4.857      5191.0   no  \n",
       "4              1.1         93.994         -36.4     4.857      5191.0   no  \n",
       "...            ...            ...           ...       ...         ...  ...  \n",
       "41183         -1.1         94.767         -50.8     1.028      4963.6  yes  \n",
       "41184         -1.1         94.767         -50.8     1.028      4963.6   no  \n",
       "41185         -1.1         94.767         -50.8     1.028      4963.6   no  \n",
       "41186         -1.1         94.767         -50.8     1.028      4963.6  yes  \n",
       "41187         -1.1         94.767         -50.8     1.028      4963.6   no  \n",
       "\n",
       "[41188 rows x 21 columns]"
      ]
     },
     "execution_count": 7,
     "metadata": {},
     "output_type": "execute_result"
    }
   ],
   "source": [
    "## After performing feature analysis decided to impute \"unknowns\" for columns with simple imputer strategy. \n",
    "\n",
    "# Execute most frequent strategy\n",
    "simple_imp = SimpleImputer(strategy='most_frequent', missing_values= 'unknown')\n",
    "\n",
    "# Convert output to dataframe\n",
    "df_imp = pd.DataFrame(simple_imp.fit_transform(df), columns=df.columns)\n",
    "# Print output \n",
    "df_imp\n"
   ]
  },
  {
   "cell_type": "code",
   "execution_count": 8,
   "metadata": {},
   "outputs": [
    {
     "data": {
      "text/plain": [
       "Index(['age', 'job', 'marital', 'education', 'default', 'housing', 'loan',\n",
       "       'contact', 'month', 'day_of_week', 'duration', 'campaign', 'pdays',\n",
       "       'previous', 'poutcome', 'emp.var.rate', 'cons.price.idx',\n",
       "       'cons.conf.idx', 'euribor3m', 'nr.employed', 'y'],\n",
       "      dtype='object')"
      ]
     },
     "execution_count": 8,
     "metadata": {},
     "output_type": "execute_result"
    }
   ],
   "source": [
    "## Rerun the feature analysis report post executing imputation\n",
    "f.close()\n",
    "with open('data/output1.txt', 'w') as f:\n",
    "   for i in ['job', 'marital', 'education', 'default', 'housing', 'loan',\n",
    "          'contact', 'month', 'day_of_week', 'campaign', 'pdays',\n",
    "          'previous', 'poutcome', 'emp.var.rate', 'cons.price.idx',\n",
    "         'cons.conf.idx', 'euribor3m', 'nr.employed', 'y']:\n",
    "         p = []\n",
    "         p = df_imp[[i]].value_counts().reset_index()\n",
    "         f.write(i)\n",
    "         f.write('\\n\\n')\n",
    "         f.write(p.to_string(index=False))\n",
    "         f.write('\\n\\n')  # Add blank lines between DataFrames\n",
    "   f.close()\n",
    "df.columns"
   ]
  },
  {
   "cell_type": "markdown",
   "metadata": {},
   "source": [
    "### Problem 4: Understanding the Task\n",
    "\n",
    "After examining the description and data, your goal now is to clearly state the *Business Objective* of the task.  State the objective below."
   ]
  },
  {
   "cell_type": "markdown",
   "metadata": {},
   "source": [
    "Business Objectives:\n"
   ]
  },
  {
   "cell_type": "markdown",
   "metadata": {},
   "source": [
    "1. The business goal is to generate a model to predict if client will subscribe to a term deposite. \n",
    "2. Evalute multiple models and select model with high accuracy of prediction.\n",
    "3. Find a model that can explain success of a contact, i.e. if the client subscribes the deposit. Such model can increase campaign efficiency by    \n",
    "   identifying the main characteristics that affect success, helping in a better management of the available resources (e.g. human effort, phone calls, time) and selection of a high quality and affordable set of potential buying customers."
   ]
  },
  {
   "cell_type": "markdown",
   "metadata": {},
   "source": [
    "### Problem 5: Engineering Features\n",
    "\n",
    "Now that you understand your business objective, we will build a basic model to get started.  Before we can do this, we must work to encode the data.  Using just the bank information features, prepare the features and target column for modeling with appropriate encoding and transformations."
   ]
  },
  {
   "cell_type": "code",
   "execution_count": 9,
   "metadata": {},
   "outputs": [
    {
     "data": {
      "text/html": [
       "<div>\n",
       "<style scoped>\n",
       "    .dataframe tbody tr th:only-of-type {\n",
       "        vertical-align: middle;\n",
       "    }\n",
       "\n",
       "    .dataframe tbody tr th {\n",
       "        vertical-align: top;\n",
       "    }\n",
       "\n",
       "    .dataframe thead th {\n",
       "        text-align: right;\n",
       "    }\n",
       "</style>\n",
       "<table border=\"1\" class=\"dataframe\">\n",
       "  <thead>\n",
       "    <tr style=\"text-align: right;\">\n",
       "      <th></th>\n",
       "      <th>marital_divorced</th>\n",
       "      <th>marital_married</th>\n",
       "      <th>marital_single</th>\n",
       "      <th>default_no</th>\n",
       "      <th>default_yes</th>\n",
       "      <th>housing_no</th>\n",
       "      <th>housing_yes</th>\n",
       "      <th>loan_no</th>\n",
       "      <th>loan_yes</th>\n",
       "      <th>contact_cellular</th>\n",
       "      <th>...</th>\n",
       "      <th>age</th>\n",
       "      <th>duration</th>\n",
       "      <th>campaign</th>\n",
       "      <th>pdays</th>\n",
       "      <th>previous</th>\n",
       "      <th>emp.var.rate</th>\n",
       "      <th>cons.price.idx</th>\n",
       "      <th>cons.conf.idx</th>\n",
       "      <th>euribor3m</th>\n",
       "      <th>nr.employed</th>\n",
       "    </tr>\n",
       "  </thead>\n",
       "  <tbody>\n",
       "    <tr>\n",
       "      <th>0</th>\n",
       "      <td>-0.355097</td>\n",
       "      <td>0.804359</td>\n",
       "      <td>-0.624938</td>\n",
       "      <td>0.008535</td>\n",
       "      <td>-0.008535</td>\n",
       "      <td>1.100814</td>\n",
       "      <td>-1.100814</td>\n",
       "      <td>0.422872</td>\n",
       "      <td>-0.422872</td>\n",
       "      <td>-1.31827</td>\n",
       "      <td>...</td>\n",
       "      <td>1.533034</td>\n",
       "      <td>0.010471</td>\n",
       "      <td>-0.565922</td>\n",
       "      <td>0.195414</td>\n",
       "      <td>-0.349494</td>\n",
       "      <td>0.648092</td>\n",
       "      <td>0.722722</td>\n",
       "      <td>0.886447</td>\n",
       "      <td>0.712460</td>\n",
       "      <td>0.331680</td>\n",
       "    </tr>\n",
       "    <tr>\n",
       "      <th>1</th>\n",
       "      <td>-0.355097</td>\n",
       "      <td>0.804359</td>\n",
       "      <td>-0.624938</td>\n",
       "      <td>0.008535</td>\n",
       "      <td>-0.008535</td>\n",
       "      <td>1.100814</td>\n",
       "      <td>-1.100814</td>\n",
       "      <td>0.422872</td>\n",
       "      <td>-0.422872</td>\n",
       "      <td>-1.31827</td>\n",
       "      <td>...</td>\n",
       "      <td>1.628993</td>\n",
       "      <td>-0.421501</td>\n",
       "      <td>-0.565922</td>\n",
       "      <td>0.195414</td>\n",
       "      <td>-0.349494</td>\n",
       "      <td>0.648092</td>\n",
       "      <td>0.722722</td>\n",
       "      <td>0.886447</td>\n",
       "      <td>0.712460</td>\n",
       "      <td>0.331680</td>\n",
       "    </tr>\n",
       "    <tr>\n",
       "      <th>2</th>\n",
       "      <td>-0.355097</td>\n",
       "      <td>0.804359</td>\n",
       "      <td>-0.624938</td>\n",
       "      <td>0.008535</td>\n",
       "      <td>-0.008535</td>\n",
       "      <td>-0.908418</td>\n",
       "      <td>0.908418</td>\n",
       "      <td>0.422872</td>\n",
       "      <td>-0.422872</td>\n",
       "      <td>-1.31827</td>\n",
       "      <td>...</td>\n",
       "      <td>-0.290186</td>\n",
       "      <td>-0.124520</td>\n",
       "      <td>-0.565922</td>\n",
       "      <td>0.195414</td>\n",
       "      <td>-0.349494</td>\n",
       "      <td>0.648092</td>\n",
       "      <td>0.722722</td>\n",
       "      <td>0.886447</td>\n",
       "      <td>0.712460</td>\n",
       "      <td>0.331680</td>\n",
       "    </tr>\n",
       "    <tr>\n",
       "      <th>3</th>\n",
       "      <td>-0.355097</td>\n",
       "      <td>0.804359</td>\n",
       "      <td>-0.624938</td>\n",
       "      <td>0.008535</td>\n",
       "      <td>-0.008535</td>\n",
       "      <td>1.100814</td>\n",
       "      <td>-1.100814</td>\n",
       "      <td>0.422872</td>\n",
       "      <td>-0.422872</td>\n",
       "      <td>-1.31827</td>\n",
       "      <td>...</td>\n",
       "      <td>-0.002309</td>\n",
       "      <td>-0.413787</td>\n",
       "      <td>-0.565922</td>\n",
       "      <td>0.195414</td>\n",
       "      <td>-0.349494</td>\n",
       "      <td>0.648092</td>\n",
       "      <td>0.722722</td>\n",
       "      <td>0.886447</td>\n",
       "      <td>0.712460</td>\n",
       "      <td>0.331680</td>\n",
       "    </tr>\n",
       "    <tr>\n",
       "      <th>4</th>\n",
       "      <td>-0.355097</td>\n",
       "      <td>0.804359</td>\n",
       "      <td>-0.624938</td>\n",
       "      <td>0.008535</td>\n",
       "      <td>-0.008535</td>\n",
       "      <td>1.100814</td>\n",
       "      <td>-1.100814</td>\n",
       "      <td>-2.364781</td>\n",
       "      <td>2.364781</td>\n",
       "      <td>-1.31827</td>\n",
       "      <td>...</td>\n",
       "      <td>1.533034</td>\n",
       "      <td>0.187888</td>\n",
       "      <td>-0.565922</td>\n",
       "      <td>0.195414</td>\n",
       "      <td>-0.349494</td>\n",
       "      <td>0.648092</td>\n",
       "      <td>0.722722</td>\n",
       "      <td>0.886447</td>\n",
       "      <td>0.712460</td>\n",
       "      <td>0.331680</td>\n",
       "    </tr>\n",
       "    <tr>\n",
       "      <th>...</th>\n",
       "      <td>...</td>\n",
       "      <td>...</td>\n",
       "      <td>...</td>\n",
       "      <td>...</td>\n",
       "      <td>...</td>\n",
       "      <td>...</td>\n",
       "      <td>...</td>\n",
       "      <td>...</td>\n",
       "      <td>...</td>\n",
       "      <td>...</td>\n",
       "      <td>...</td>\n",
       "      <td>...</td>\n",
       "      <td>...</td>\n",
       "      <td>...</td>\n",
       "      <td>...</td>\n",
       "      <td>...</td>\n",
       "      <td>...</td>\n",
       "      <td>...</td>\n",
       "      <td>...</td>\n",
       "      <td>...</td>\n",
       "      <td>...</td>\n",
       "    </tr>\n",
       "    <tr>\n",
       "      <th>41183</th>\n",
       "      <td>-0.355097</td>\n",
       "      <td>0.804359</td>\n",
       "      <td>-0.624938</td>\n",
       "      <td>0.008535</td>\n",
       "      <td>-0.008535</td>\n",
       "      <td>-0.908418</td>\n",
       "      <td>0.908418</td>\n",
       "      <td>0.422872</td>\n",
       "      <td>-0.422872</td>\n",
       "      <td>0.75857</td>\n",
       "      <td>...</td>\n",
       "      <td>3.164336</td>\n",
       "      <td>0.292025</td>\n",
       "      <td>-0.565922</td>\n",
       "      <td>0.195414</td>\n",
       "      <td>-0.349494</td>\n",
       "      <td>-0.752343</td>\n",
       "      <td>2.058168</td>\n",
       "      <td>-2.224953</td>\n",
       "      <td>-1.495186</td>\n",
       "      <td>-2.815697</td>\n",
       "    </tr>\n",
       "    <tr>\n",
       "      <th>41184</th>\n",
       "      <td>-0.355097</td>\n",
       "      <td>0.804359</td>\n",
       "      <td>-0.624938</td>\n",
       "      <td>0.008535</td>\n",
       "      <td>-0.008535</td>\n",
       "      <td>1.100814</td>\n",
       "      <td>-1.100814</td>\n",
       "      <td>0.422872</td>\n",
       "      <td>-0.422872</td>\n",
       "      <td>0.75857</td>\n",
       "      <td>...</td>\n",
       "      <td>0.573445</td>\n",
       "      <td>0.481012</td>\n",
       "      <td>-0.565922</td>\n",
       "      <td>0.195414</td>\n",
       "      <td>-0.349494</td>\n",
       "      <td>-0.752343</td>\n",
       "      <td>2.058168</td>\n",
       "      <td>-2.224953</td>\n",
       "      <td>-1.495186</td>\n",
       "      <td>-2.815697</td>\n",
       "    </tr>\n",
       "    <tr>\n",
       "      <th>41185</th>\n",
       "      <td>-0.355097</td>\n",
       "      <td>0.804359</td>\n",
       "      <td>-0.624938</td>\n",
       "      <td>0.008535</td>\n",
       "      <td>-0.008535</td>\n",
       "      <td>-0.908418</td>\n",
       "      <td>0.908418</td>\n",
       "      <td>0.422872</td>\n",
       "      <td>-0.422872</td>\n",
       "      <td>0.75857</td>\n",
       "      <td>...</td>\n",
       "      <td>1.533034</td>\n",
       "      <td>-0.267225</td>\n",
       "      <td>-0.204909</td>\n",
       "      <td>0.195414</td>\n",
       "      <td>-0.349494</td>\n",
       "      <td>-0.752343</td>\n",
       "      <td>2.058168</td>\n",
       "      <td>-2.224953</td>\n",
       "      <td>-1.495186</td>\n",
       "      <td>-2.815697</td>\n",
       "    </tr>\n",
       "    <tr>\n",
       "      <th>41186</th>\n",
       "      <td>-0.355097</td>\n",
       "      <td>0.804359</td>\n",
       "      <td>-0.624938</td>\n",
       "      <td>0.008535</td>\n",
       "      <td>-0.008535</td>\n",
       "      <td>1.100814</td>\n",
       "      <td>-1.100814</td>\n",
       "      <td>0.422872</td>\n",
       "      <td>-0.422872</td>\n",
       "      <td>0.75857</td>\n",
       "      <td>...</td>\n",
       "      <td>0.381527</td>\n",
       "      <td>0.708569</td>\n",
       "      <td>-0.565922</td>\n",
       "      <td>0.195414</td>\n",
       "      <td>-0.349494</td>\n",
       "      <td>-0.752343</td>\n",
       "      <td>2.058168</td>\n",
       "      <td>-2.224953</td>\n",
       "      <td>-1.495186</td>\n",
       "      <td>-2.815697</td>\n",
       "    </tr>\n",
       "    <tr>\n",
       "      <th>41187</th>\n",
       "      <td>-0.355097</td>\n",
       "      <td>0.804359</td>\n",
       "      <td>-0.624938</td>\n",
       "      <td>0.008535</td>\n",
       "      <td>-0.008535</td>\n",
       "      <td>-0.908418</td>\n",
       "      <td>0.908418</td>\n",
       "      <td>0.422872</td>\n",
       "      <td>-0.422872</td>\n",
       "      <td>0.75857</td>\n",
       "      <td>...</td>\n",
       "      <td>3.260295</td>\n",
       "      <td>-0.074380</td>\n",
       "      <td>0.156105</td>\n",
       "      <td>0.195414</td>\n",
       "      <td>1.671136</td>\n",
       "      <td>-0.752343</td>\n",
       "      <td>2.058168</td>\n",
       "      <td>-2.224953</td>\n",
       "      <td>-1.495186</td>\n",
       "      <td>-2.815697</td>\n",
       "    </tr>\n",
       "  </tbody>\n",
       "</table>\n",
       "<p>41188 rows × 28 columns</p>\n",
       "</div>"
      ],
      "text/plain": [
       "       marital_divorced  marital_married  marital_single  default_no  \\\n",
       "0             -0.355097         0.804359       -0.624938    0.008535   \n",
       "1             -0.355097         0.804359       -0.624938    0.008535   \n",
       "2             -0.355097         0.804359       -0.624938    0.008535   \n",
       "3             -0.355097         0.804359       -0.624938    0.008535   \n",
       "4             -0.355097         0.804359       -0.624938    0.008535   \n",
       "...                 ...              ...             ...         ...   \n",
       "41183         -0.355097         0.804359       -0.624938    0.008535   \n",
       "41184         -0.355097         0.804359       -0.624938    0.008535   \n",
       "41185         -0.355097         0.804359       -0.624938    0.008535   \n",
       "41186         -0.355097         0.804359       -0.624938    0.008535   \n",
       "41187         -0.355097         0.804359       -0.624938    0.008535   \n",
       "\n",
       "       default_yes  housing_no  housing_yes   loan_no  loan_yes  \\\n",
       "0        -0.008535    1.100814    -1.100814  0.422872 -0.422872   \n",
       "1        -0.008535    1.100814    -1.100814  0.422872 -0.422872   \n",
       "2        -0.008535   -0.908418     0.908418  0.422872 -0.422872   \n",
       "3        -0.008535    1.100814    -1.100814  0.422872 -0.422872   \n",
       "4        -0.008535    1.100814    -1.100814 -2.364781  2.364781   \n",
       "...            ...         ...          ...       ...       ...   \n",
       "41183    -0.008535   -0.908418     0.908418  0.422872 -0.422872   \n",
       "41184    -0.008535    1.100814    -1.100814  0.422872 -0.422872   \n",
       "41185    -0.008535   -0.908418     0.908418  0.422872 -0.422872   \n",
       "41186    -0.008535    1.100814    -1.100814  0.422872 -0.422872   \n",
       "41187    -0.008535   -0.908418     0.908418  0.422872 -0.422872   \n",
       "\n",
       "       contact_cellular  ...       age  duration  campaign     pdays  \\\n",
       "0              -1.31827  ...  1.533034  0.010471 -0.565922  0.195414   \n",
       "1              -1.31827  ...  1.628993 -0.421501 -0.565922  0.195414   \n",
       "2              -1.31827  ... -0.290186 -0.124520 -0.565922  0.195414   \n",
       "3              -1.31827  ... -0.002309 -0.413787 -0.565922  0.195414   \n",
       "4              -1.31827  ...  1.533034  0.187888 -0.565922  0.195414   \n",
       "...                 ...  ...       ...       ...       ...       ...   \n",
       "41183           0.75857  ...  3.164336  0.292025 -0.565922  0.195414   \n",
       "41184           0.75857  ...  0.573445  0.481012 -0.565922  0.195414   \n",
       "41185           0.75857  ...  1.533034 -0.267225 -0.204909  0.195414   \n",
       "41186           0.75857  ...  0.381527  0.708569 -0.565922  0.195414   \n",
       "41187           0.75857  ...  3.260295 -0.074380  0.156105  0.195414   \n",
       "\n",
       "       previous  emp.var.rate  cons.price.idx  cons.conf.idx  euribor3m  \\\n",
       "0     -0.349494      0.648092        0.722722       0.886447   0.712460   \n",
       "1     -0.349494      0.648092        0.722722       0.886447   0.712460   \n",
       "2     -0.349494      0.648092        0.722722       0.886447   0.712460   \n",
       "3     -0.349494      0.648092        0.722722       0.886447   0.712460   \n",
       "4     -0.349494      0.648092        0.722722       0.886447   0.712460   \n",
       "...         ...           ...             ...            ...        ...   \n",
       "41183 -0.349494     -0.752343        2.058168      -2.224953  -1.495186   \n",
       "41184 -0.349494     -0.752343        2.058168      -2.224953  -1.495186   \n",
       "41185 -0.349494     -0.752343        2.058168      -2.224953  -1.495186   \n",
       "41186 -0.349494     -0.752343        2.058168      -2.224953  -1.495186   \n",
       "41187  1.671136     -0.752343        2.058168      -2.224953  -1.495186   \n",
       "\n",
       "       nr.employed  \n",
       "0         0.331680  \n",
       "1         0.331680  \n",
       "2         0.331680  \n",
       "3         0.331680  \n",
       "4         0.331680  \n",
       "...            ...  \n",
       "41183    -2.815697  \n",
       "41184    -2.815697  \n",
       "41185    -2.815697  \n",
       "41186    -2.815697  \n",
       "41187    -2.815697  \n",
       "\n",
       "[41188 rows x 28 columns]"
      ]
     },
     "execution_count": 9,
     "metadata": {},
     "output_type": "execute_result"
    }
   ],
   "source": [
    "## Prep the Dataframe for Model \n",
    "\n",
    "# drop target column\n",
    "df_scaled = df_imp.drop('y', axis=1)\n",
    "y = df_imp['y']\n",
    "y = np.where(y=='no',0,1)\n",
    "col = []\n",
    "\n",
    "# Prepare column transformer to apply the data encoding for categorical variables using onehotencoder and target encoder \n",
    "pre_process = ColumnTransformer([\n",
    "                                (\"encoder_marital\", OneHotEncoder(), ['marital', 'default', 'housing', 'loan','contact','poutcome']),\n",
    "                                (\"target_encoder\", TargetEncoder(), [\"job\", \"education\", \"month\", \"day_of_week\"])] \n",
    "                                , remainder=\"passthrough\")\n",
    "\n",
    "## Pipeline JOB to execute the data encoder and scale the data.\n",
    "data = Pipeline([\n",
    "                   ('preprocess', pre_process), \n",
    "                   ('scaler', StandardScaler()),\n",
    "        ])\n",
    "\n",
    "# Run the pipeline with original dataset\n",
    "scaled_df = data.fit_transform(df_scaled,y)\n",
    "\n",
    "# Recreate the final scaled dataframe \n",
    "for i in pre_process.get_feature_names_out():\n",
    "    col.append(i.split(\"__\")[1:][0])\n",
    "scaled_df = pd.DataFrame(scaled_df, columns=col)\n",
    "\n",
    "# Print the dataframe\n",
    "scaled_df\n"
   ]
  },
  {
   "cell_type": "code",
   "execution_count": 10,
   "metadata": {},
   "outputs": [
    {
     "data": {
      "image/png": "[encoded data removed]",
      "text/plain": [
       "<Figure size 2000x1600 with 2 Axes>"
      ]
     },
     "metadata": {},
     "output_type": "display_data"
    }
   ],
   "source": [
    "## Generate the correlation matrix heatmap to identify the tight coupling between features. \n",
    "# The correlation is function is executed on scaled dataframe, which eliminates most of pre-dependencies\n",
    "\n",
    "from matplotlib import pyplot as plt\n",
    "import seaborn\n",
    "correlation_matrix = scaled_df.corr()\n",
    "plt.figure(figsize=(20, 16))  # Adjust the figure size if needed\n",
    "seaborn.heatmap(correlation_matrix, annot=True, cmap=\"coolwarm\", fmt=\".2f\", linewidths=0.5)\n",
    "plt.title(\"Correlation Matrix Heatmap\")\n",
    "plt.show()\n",
    "\n",
    "## Note: The correlation matrix on scaled data shows majorly de-coupled, and looks good for processing. "
   ]
  },
  {
   "cell_type": "code",
   "execution_count": 11,
   "metadata": {},
   "outputs": [
    {
     "data": {
      "text/plain": [
       "Text(0.5, 1.0, 'n_components vs. Explained Variance Ratio')"
      ]
     },
     "execution_count": 11,
     "metadata": {},
     "output_type": "execute_result"
    },
    {
     "data": {
      "image/png": "[encoded data removed]",
      "text/plain": [
       "<Figure size 1500x1200 with 1 Axes>"
      ]
     },
     "metadata": {},
     "output_type": "display_data"
    }
   ],
   "source": [
    "## Execute the PCA on the dataframe to identify any scope of feature elimination \n",
    "# Import skitlearn PCA component\n",
    "from sklearn.decomposition import PCA\n",
    "\n",
    "# Set the iteration count equal to number of features \n",
    "iterates = np.arange(28)\n",
    "# Initialise the variance ratio \n",
    "var_ratio = []\n",
    "\n",
    "# Execute for loop and store the variance ratio for each run\n",
    "for iterate in iterates:\n",
    "  pca = PCA(n_components=iterate)\n",
    "  pca.fit(scaled_df)\n",
    "  var_ratio.append(np.sum(pca.explained_variance_ratio_))\n",
    "\n",
    "#Plot the PCA \n",
    "plt.figure(figsize=(10,8),dpi=150)\n",
    "plt.grid()\n",
    "plt.plot(iterates,var_ratio,marker='o')\n",
    "plt.xlabel('n_components')\n",
    "plt.ylabel('Explained variance ratio')\n",
    "plt.title('n_components vs. Explained Variance Ratio')"
   ]
  },
  {
   "cell_type": "code",
   "execution_count": 12,
   "metadata": {},
   "outputs": [
    {
     "data": {
      "application/vnd.plotly.v1+json": {
       "config": {
        "plotlyServerURL": "https://plot.ly"
       },
       "data": [
        {
         "alignmentgroup": "True",
         "hovertemplate": "index=%{x}<br>Importance=%{y}<extra></extra>",
         "legendgroup": "",
         "marker": {
          "color": "#636efa",
          "pattern": {
           "shape": ""
          }
         },
         "name": "",
         "offsetgroup": "",
         "orientation": "v",
         "showlegend": false,
         "textposition": "auto",
         "type": "bar",
         "x": [
          "duration",
          "euribor3m",
          "age",
          "nr.employed",
          "job",
          "day_of_week",
          "education",
          "month",
          "campaign",
          "pdays",
          "poutcome_success",
          "emp.var.rate",
          "cons.conf.idx",
          "cons.price.idx",
          "housing_yes",
          "previous",
          "housing_no",
          "marital_married",
          "marital_single",
          "loan_no",
          "loan_yes",
          "marital_divorced",
          "poutcome_failure",
          "contact_telephone",
          "contact_cellular",
          "poutcome_nonexistent",
          "default_yes",
          "default_no"
         ],
         "xaxis": "x",
         "y": [
          0.2922212139541176,
          0.09918889279068605,
          0.07473723772232671,
          0.06166175581633744,
          0.061391379984780725,
          0.058284111261604696,
          0.05505459498687814,
          0.05036477737344022,
          0.03551184461442151,
          0.025799936869455465,
          0.02498911847794568,
          0.024240742296159305,
          0.02160600882504238,
          0.02059852305664285,
          0.010785337948530649,
          0.010509841270191986,
          0.010342162589051875,
          0.010281309484856864,
          0.009445888520589661,
          0.007446555233908938,
          0.007362729366648477,
          0.006450459290398534,
          0.005975637529155173,
          0.005653492042085762,
          0.005435355113004883,
          0.004659399858670678,
          0.0000016752539997280693,
          1.846906795881131e-8
         ],
         "yaxis": "y"
        }
       ],
       "layout": {
        "barmode": "relative",
        "legend": {
         "tracegroupgap": 0
        },
        "template": {
         "data": {
          "bar": [
           {
            "error_x": {
             "color": "#2a3f5f"
            },
            "error_y": {
             "color": "#2a3f5f"
            },
            "marker": {
             "line": {
              "color": "#E5ECF6",
              "width": 0.5
             },
             "pattern": {
              "fillmode": "overlay",
              "size": 10,
              "solidity": 0.2
             }
            },
            "type": "bar"
           }
          ],
          "barpolar": [
           {
            "marker": {
             "line": {
              "color": "#E5ECF6",
              "width": 0.5
             },
             "pattern": {
              "fillmode": "overlay",
              "size": 10,
              "solidity": 0.2
             }
            },
            "type": "barpolar"
           }
          ],
          "carpet": [
           {
            "aaxis": {
             "endlinecolor": "#2a3f5f",
             "gridcolor": "white",
             "linecolor": "white",
             "minorgridcolor": "white",
             "startlinecolor": "#2a3f5f"
            },
            "baxis": {
             "endlinecolor": "#2a3f5f",
             "gridcolor": "white",
             "linecolor": "white",
             "minorgridcolor": "white",
             "startlinecolor": "#2a3f5f"
            },
            "type": "carpet"
           }
          ],
          "choropleth": [
           {
            "colorbar": {
             "outlinewidth": 0,
             "ticks": ""
            },
            "type": "choropleth"
           }
          ],
          "contour": [
           {
            "colorbar": {
             "outlinewidth": 0,
             "ticks": ""
            },
            "colorscale": [
             [
              0,
              "#0d0887"
             ],
             [
              0.1111111111111111,
              "#46039f"
             ],
             [
              0.2222222222222222,
              "#7201a8"
             ],
             [
              0.3333333333333333,
              "#9c179e"
             ],
             [
              0.4444444444444444,
              "#bd3786"
             ],
             [
              0.5555555555555556,
              "#d8576b"
             ],
             [
              0.6666666666666666,
              "#ed7953"
             ],
             [
              0.7777777777777778,
              "#fb9f3a"
             ],
             [
              0.8888888888888888,
              "#fdca26"
             ],
             [
              1,
              "#f0f921"
             ]
            ],
            "type": "contour"
           }
          ],
          "contourcarpet": [
           {
            "colorbar": {
             "outlinewidth": 0,
             "ticks": ""
            },
            "type": "contourcarpet"
           }
          ],
          "heatmap": [
           {
            "colorbar": {
             "outlinewidth": 0,
             "ticks": ""
            },
            "colorscale": [
             [
              0,
              "#0d0887"
             ],
             [
              0.1111111111111111,
              "#46039f"
             ],
             [
              0.2222222222222222,
              "#7201a8"
             ],
             [
              0.3333333333333333,
              "#9c179e"
             ],
             [
              0.4444444444444444,
              "#bd3786"
             ],
             [
              0.5555555555555556,
              "#d8576b"
             ],
             [
              0.6666666666666666,
              "#ed7953"
             ],
             [
              0.7777777777777778,
              "#fb9f3a"
             ],
             [
              0.8888888888888888,
              "#fdca26"
             ],
             [
              1,
              "#f0f921"
             ]
            ],
            "type": "heatmap"
           }
          ],
          "heatmapgl": [
           {
            "colorbar": {
             "outlinewidth": 0,
             "ticks": ""
            },
            "colorscale": [
             [
              0,
              "#0d0887"
             ],
             [
              0.1111111111111111,
              "#46039f"
             ],
             [
              0.2222222222222222,
              "#7201a8"
             ],
             [
              0.3333333333333333,
              "#9c179e"
             ],
             [
              0.4444444444444444,
              "#bd3786"
             ],
             [
              0.5555555555555556,
              "#d8576b"
             ],
             [
              0.6666666666666666,
              "#ed7953"
             ],
             [
              0.7777777777777778,
              "#fb9f3a"
             ],
             [
              0.8888888888888888,
              "#fdca26"
             ],
             [
              1,
              "#f0f921"
             ]
            ],
            "type": "heatmapgl"
           }
          ],
          "histogram": [
           {
            "marker": {
             "pattern": {
              "fillmode": "overlay",
              "size": 10,
              "solidity": 0.2
             }
            },
            "type": "histogram"
           }
          ],
          "histogram2d": [
           {
            "colorbar": {
             "outlinewidth": 0,
             "ticks": ""
            },
            "colorscale": [
             [
              0,
              "#0d0887"
             ],
             [
              0.1111111111111111,
              "#46039f"
             ],
             [
              0.2222222222222222,
              "#7201a8"
             ],
             [
              0.3333333333333333,
              "#9c179e"
             ],
             [
              0.4444444444444444,
              "#bd3786"
             ],
             [
              0.5555555555555556,
              "#d8576b"
             ],
             [
              0.6666666666666666,
              "#ed7953"
             ],
             [
              0.7777777777777778,
              "#fb9f3a"
             ],
             [
              0.8888888888888888,
              "#fdca26"
             ],
             [
              1,
              "#f0f921"
             ]
            ],
            "type": "histogram2d"
           }
          ],
          "histogram2dcontour": [
           {
            "colorbar": {
             "outlinewidth": 0,
             "ticks": ""
            },
            "colorscale": [
             [
              0,
              "#0d0887"
             ],
             [
              0.1111111111111111,
              "#46039f"
             ],
             [
              0.2222222222222222,
              "#7201a8"
             ],
             [
              0.3333333333333333,
              "#9c179e"
             ],
             [
              0.4444444444444444,
              "#bd3786"
             ],
             [
              0.5555555555555556,
              "#d8576b"
             ],
             [
              0.6666666666666666,
              "#ed7953"
             ],
             [
              0.7777777777777778,
              "#fb9f3a"
             ],
             [
              0.8888888888888888,
              "#fdca26"
             ],
             [
              1,
              "#f0f921"
             ]
            ],
            "type": "histogram2dcontour"
           }
          ],
          "mesh3d": [
           {
            "colorbar": {
             "outlinewidth": 0,
             "ticks": ""
            },
            "type": "mesh3d"
           }
          ],
          "parcoords": [
           {
            "line": {
             "colorbar": {
              "outlinewidth": 0,
              "ticks": ""
             }
            },
            "type": "parcoords"
           }
          ],
          "pie": [
           {
            "automargin": true,
            "type": "pie"
           }
          ],
          "scatter": [
           {
            "fillpattern": {
             "fillmode": "overlay",
             "size": 10,
             "solidity": 0.2
            },
            "type": "scatter"
           }
          ],
          "scatter3d": [
           {
            "line": {
             "colorbar": {
              "outlinewidth": 0,
              "ticks": ""
             }
            },
            "marker": {
             "colorbar": {
              "outlinewidth": 0,
              "ticks": ""
             }
            },
            "type": "scatter3d"
           }
          ],
          "scattercarpet": [
           {
            "marker": {
             "colorbar": {
              "outlinewidth": 0,
              "ticks": ""
             }
            },
            "type": "scattercarpet"
           }
          ],
          "scattergeo": [
           {
            "marker": {
             "colorbar": {
              "outlinewidth": 0,
              "ticks": ""
             }
            },
            "type": "scattergeo"
           }
          ],
          "scattergl": [
           {
            "marker": {
             "colorbar": {
              "outlinewidth": 0,
              "ticks": ""
             }
            },
            "type": "scattergl"
           }
          ],
          "scattermapbox": [
           {
            "marker": {
             "colorbar": {
              "outlinewidth": 0,
              "ticks": ""
             }
            },
            "type": "scattermapbox"
           }
          ],
          "scatterpolar": [
           {
            "marker": {
             "colorbar": {
              "outlinewidth": 0,
              "ticks": ""
             }
            },
            "type": "scatterpolar"
           }
          ],
          "scatterpolargl": [
           {
            "marker": {
             "colorbar": {
              "outlinewidth": 0,
              "ticks": ""
             }
            },
            "type": "scatterpolargl"
           }
          ],
          "scatterternary": [
           {
            "marker": {
             "colorbar": {
              "outlinewidth": 0,
              "ticks": ""
             }
            },
            "type": "scatterternary"
           }
          ],
          "surface": [
           {
            "colorbar": {
             "outlinewidth": 0,
             "ticks": ""
            },
            "colorscale": [
             [
              0,
              "#0d0887"
             ],
             [
              0.1111111111111111,
              "#46039f"
             ],
             [
              0.2222222222222222,
              "#7201a8"
             ],
             [
              0.3333333333333333,
              "#9c179e"
             ],
             [
              0.4444444444444444,
              "#bd3786"
             ],
             [
              0.5555555555555556,
              "#d8576b"
             ],
             [
              0.6666666666666666,
              "#ed7953"
             ],
             [
              0.7777777777777778,
              "#fb9f3a"
             ],
             [
              0.8888888888888888,
              "#fdca26"
             ],
             [
              1,
              "#f0f921"
             ]
            ],
            "type": "surface"
           }
          ],
          "table": [
           {
            "cells": {
             "fill": {
              "color": "#EBF0F8"
             },
             "line": {
              "color": "white"
             }
            },
            "header": {
             "fill": {
              "color": "#C8D4E3"
             },
             "line": {
              "color": "white"
             }
            },
            "type": "table"
           }
          ]
         },
         "layout": {
          "annotationdefaults": {
           "arrowcolor": "#2a3f5f",
           "arrowhead": 0,
           "arrowwidth": 1
          },
          "autotypenumbers": "strict",
          "coloraxis": {
           "colorbar": {
            "outlinewidth": 0,
            "ticks": ""
           }
          },
          "colorscale": {
           "diverging": [
            [
             0,
             "#8e0152"
            ],
            [
             0.1,
             "#c51b7d"
            ],
            [
             0.2,
             "#de77ae"
            ],
            [
             0.3,
             "#f1b6da"
            ],
            [
             0.4,
             "#fde0ef"
            ],
            [
             0.5,
             "#f7f7f7"
            ],
            [
             0.6,
             "#e6f5d0"
            ],
            [
             0.7,
             "#b8e186"
            ],
            [
             0.8,
             "#7fbc41"
            ],
            [
             0.9,
             "#4d9221"
            ],
            [
             1,
             "#276419"
            ]
           ],
           "sequential": [
            [
             0,
             "#0d0887"
            ],
            [
             0.1111111111111111,
             "#46039f"
            ],
            [
             0.2222222222222222,
             "#7201a8"
            ],
            [
             0.3333333333333333,
             "#9c179e"
            ],
            [
             0.4444444444444444,
             "#bd3786"
            ],
            [
             0.5555555555555556,
             "#d8576b"
            ],
            [
             0.6666666666666666,
             "#ed7953"
            ],
            [
             0.7777777777777778,
             "#fb9f3a"
            ],
            [
             0.8888888888888888,
             "#fdca26"
            ],
            [
             1,
             "#f0f921"
            ]
           ],
           "sequentialminus": [
            [
             0,
             "#0d0887"
            ],
            [
             0.1111111111111111,
             "#46039f"
            ],
            [
             0.2222222222222222,
             "#7201a8"
            ],
            [
             0.3333333333333333,
             "#9c179e"
            ],
            [
             0.4444444444444444,
             "#bd3786"
            ],
            [
             0.5555555555555556,
             "#d8576b"
            ],
            [
             0.6666666666666666,
             "#ed7953"
            ],
            [
             0.7777777777777778,
             "#fb9f3a"
            ],
            [
             0.8888888888888888,
             "#fdca26"
            ],
            [
             1,
             "#f0f921"
            ]
           ]
          },
          "colorway": [
           "#636efa",
           "#EF553B",
           "#00cc96",
           "#ab63fa",
           "#FFA15A",
           "#19d3f3",
           "#FF6692",
           "#B6E880",
           "#FF97FF",
           "#FECB52"
          ],
          "font": {
           "color": "#2a3f5f"
          },
          "geo": {
           "bgcolor": "white",
           "lakecolor": "white",
           "landcolor": "#E5ECF6",
           "showlakes": true,
           "showland": true,
           "subunitcolor": "white"
          },
          "hoverlabel": {
           "align": "left"
          },
          "hovermode": "closest",
          "mapbox": {
           "style": "light"
          },
          "paper_bgcolor": "white",
          "plot_bgcolor": "#E5ECF6",
          "polar": {
           "angularaxis": {
            "gridcolor": "white",
            "linecolor": "white",
            "ticks": ""
           },
           "bgcolor": "#E5ECF6",
           "radialaxis": {
            "gridcolor": "white",
            "linecolor": "white",
            "ticks": ""
           }
          },
          "scene": {
           "xaxis": {
            "backgroundcolor": "#E5ECF6",
            "gridcolor": "white",
            "gridwidth": 2,
            "linecolor": "white",
            "showbackground": true,
            "ticks": "",
            "zerolinecolor": "white"
           },
           "yaxis": {
            "backgroundcolor": "#E5ECF6",
            "gridcolor": "white",
            "gridwidth": 2,
            "linecolor": "white",
            "showbackground": true,
            "ticks": "",
            "zerolinecolor": "white"
           },
           "zaxis": {
            "backgroundcolor": "#E5ECF6",
            "gridcolor": "white",
            "gridwidth": 2,
            "linecolor": "white",
            "showbackground": true,
            "ticks": "",
            "zerolinecolor": "white"
           }
          },
          "shapedefaults": {
           "line": {
            "color": "#2a3f5f"
           }
          },
          "ternary": {
           "aaxis": {
            "gridcolor": "white",
            "linecolor": "white",
            "ticks": ""
           },
           "baxis": {
            "gridcolor": "white",
            "linecolor": "white",
            "ticks": ""
           },
           "bgcolor": "#E5ECF6",
           "caxis": {
            "gridcolor": "white",
            "linecolor": "white",
            "ticks": ""
           }
          },
          "title": {
           "x": 0.05
          },
          "xaxis": {
           "automargin": true,
           "gridcolor": "white",
           "linecolor": "white",
           "ticks": "",
           "title": {
            "standoff": 15
           },
           "zerolinecolor": "white",
           "zerolinewidth": 2
          },
          "yaxis": {
           "automargin": true,
           "gridcolor": "white",
           "linecolor": "white",
           "ticks": "",
           "title": {
            "standoff": 15
           },
           "zerolinecolor": "white",
           "zerolinewidth": 2
          }
         }
        },
        "title": {
         "text": "Feature Importance"
        },
        "xaxis": {
         "anchor": "y",
         "domain": [
          0,
          1
         ],
         "title": {
          "text": "index"
         }
        },
        "yaxis": {
         "anchor": "x",
         "domain": [
          0,
          1
         ],
         "title": {
          "text": "Importance"
         }
        }
       }
      }
     },
     "metadata": {},
     "output_type": "display_data"
    },
    {
     "data": {
      "text/html": [
       "<div>\n",
       "<style scoped>\n",
       "    .dataframe tbody tr th:only-of-type {\n",
       "        vertical-align: middle;\n",
       "    }\n",
       "\n",
       "    .dataframe tbody tr th {\n",
       "        vertical-align: top;\n",
       "    }\n",
       "\n",
       "    .dataframe thead th {\n",
       "        text-align: right;\n",
       "    }\n",
       "</style>\n",
       "<table border=\"1\" class=\"dataframe\">\n",
       "  <thead>\n",
       "    <tr style=\"text-align: right;\">\n",
       "      <th></th>\n",
       "      <th>Importance</th>\n",
       "    </tr>\n",
       "  </thead>\n",
       "  <tbody>\n",
       "    <tr>\n",
       "      <th>duration</th>\n",
       "      <td>2.922212e-01</td>\n",
       "    </tr>\n",
       "    <tr>\n",
       "      <th>euribor3m</th>\n",
       "      <td>9.918889e-02</td>\n",
       "    </tr>\n",
       "    <tr>\n",
       "      <th>age</th>\n",
       "      <td>7.473724e-02</td>\n",
       "    </tr>\n",
       "    <tr>\n",
       "      <th>nr.employed</th>\n",
       "      <td>6.166176e-02</td>\n",
       "    </tr>\n",
       "    <tr>\n",
       "      <th>job</th>\n",
       "      <td>6.139138e-02</td>\n",
       "    </tr>\n",
       "    <tr>\n",
       "      <th>day_of_week</th>\n",
       "      <td>5.828411e-02</td>\n",
       "    </tr>\n",
       "    <tr>\n",
       "      <th>education</th>\n",
       "      <td>5.505459e-02</td>\n",
       "    </tr>\n",
       "    <tr>\n",
       "      <th>month</th>\n",
       "      <td>5.036478e-02</td>\n",
       "    </tr>\n",
       "    <tr>\n",
       "      <th>campaign</th>\n",
       "      <td>3.551184e-02</td>\n",
       "    </tr>\n",
       "    <tr>\n",
       "      <th>pdays</th>\n",
       "      <td>2.579994e-02</td>\n",
       "    </tr>\n",
       "    <tr>\n",
       "      <th>poutcome_success</th>\n",
       "      <td>2.498912e-02</td>\n",
       "    </tr>\n",
       "    <tr>\n",
       "      <th>emp.var.rate</th>\n",
       "      <td>2.424074e-02</td>\n",
       "    </tr>\n",
       "    <tr>\n",
       "      <th>cons.conf.idx</th>\n",
       "      <td>2.160601e-02</td>\n",
       "    </tr>\n",
       "    <tr>\n",
       "      <th>cons.price.idx</th>\n",
       "      <td>2.059852e-02</td>\n",
       "    </tr>\n",
       "    <tr>\n",
       "      <th>housing_yes</th>\n",
       "      <td>1.078534e-02</td>\n",
       "    </tr>\n",
       "    <tr>\n",
       "      <th>previous</th>\n",
       "      <td>1.050984e-02</td>\n",
       "    </tr>\n",
       "    <tr>\n",
       "      <th>housing_no</th>\n",
       "      <td>1.034216e-02</td>\n",
       "    </tr>\n",
       "    <tr>\n",
       "      <th>marital_married</th>\n",
       "      <td>1.028131e-02</td>\n",
       "    </tr>\n",
       "    <tr>\n",
       "      <th>marital_single</th>\n",
       "      <td>9.445889e-03</td>\n",
       "    </tr>\n",
       "    <tr>\n",
       "      <th>loan_no</th>\n",
       "      <td>7.446555e-03</td>\n",
       "    </tr>\n",
       "    <tr>\n",
       "      <th>loan_yes</th>\n",
       "      <td>7.362729e-03</td>\n",
       "    </tr>\n",
       "    <tr>\n",
       "      <th>marital_divorced</th>\n",
       "      <td>6.450459e-03</td>\n",
       "    </tr>\n",
       "    <tr>\n",
       "      <th>poutcome_failure</th>\n",
       "      <td>5.975638e-03</td>\n",
       "    </tr>\n",
       "    <tr>\n",
       "      <th>contact_telephone</th>\n",
       "      <td>5.653492e-03</td>\n",
       "    </tr>\n",
       "    <tr>\n",
       "      <th>contact_cellular</th>\n",
       "      <td>5.435355e-03</td>\n",
       "    </tr>\n",
       "    <tr>\n",
       "      <th>poutcome_nonexistent</th>\n",
       "      <td>4.659400e-03</td>\n",
       "    </tr>\n",
       "    <tr>\n",
       "      <th>default_yes</th>\n",
       "      <td>1.675254e-06</td>\n",
       "    </tr>\n",
       "    <tr>\n",
       "      <th>default_no</th>\n",
       "      <td>1.846907e-08</td>\n",
       "    </tr>\n",
       "  </tbody>\n",
       "</table>\n",
       "</div>"
      ],
      "text/plain": [
       "                        Importance\n",
       "duration              2.922212e-01\n",
       "euribor3m             9.918889e-02\n",
       "age                   7.473724e-02\n",
       "nr.employed           6.166176e-02\n",
       "job                   6.139138e-02\n",
       "day_of_week           5.828411e-02\n",
       "education             5.505459e-02\n",
       "month                 5.036478e-02\n",
       "campaign              3.551184e-02\n",
       "pdays                 2.579994e-02\n",
       "poutcome_success      2.498912e-02\n",
       "emp.var.rate          2.424074e-02\n",
       "cons.conf.idx         2.160601e-02\n",
       "cons.price.idx        2.059852e-02\n",
       "housing_yes           1.078534e-02\n",
       "previous              1.050984e-02\n",
       "housing_no            1.034216e-02\n",
       "marital_married       1.028131e-02\n",
       "marital_single        9.445889e-03\n",
       "loan_no               7.446555e-03\n",
       "loan_yes              7.362729e-03\n",
       "marital_divorced      6.450459e-03\n",
       "poutcome_failure      5.975638e-03\n",
       "contact_telephone     5.653492e-03\n",
       "contact_cellular      5.435355e-03\n",
       "poutcome_nonexistent  4.659400e-03\n",
       "default_yes           1.675254e-06\n",
       "default_no            1.846907e-08"
      ]
     },
     "execution_count": 12,
     "metadata": {},
     "output_type": "execute_result"
    }
   ],
   "source": [
    "## Extract the important features and rank using Random forest classifier\n",
    "\n",
    "# Import Random forest classifier\n",
    "from sklearn.ensemble import RandomForestClassifier\n",
    "\n",
    "# Instantiate the Random forest\n",
    "rf = RandomForestClassifier(n_estimators=100,criterion='gini')\n",
    "\n",
    "# Perform fit to the classifier\n",
    "rf.fit(scaled_df,y)\n",
    "fx = pd.DataFrame(rf.feature_importances_,columns=['Importance']).set_index(scaled_df.columns).sort_values(by='Importance', ascending=False)\n",
    "\n",
    "# Plot the features importance\n",
    "fig = px.bar(fx, x=fx.index, y='Importance', title='Feature Importance')\n",
    "fig.show()\n",
    "fx\n",
    "\n",
    "\n"
   ]
  },
  {
   "cell_type": "markdown",
   "metadata": {},
   "source": [
    "### Problem 6: Train/Test Split\n",
    "\n",
    "With your data prepared, split it into a train and test set."
   ]
  },
  {
   "cell_type": "code",
   "execution_count": 13,
   "metadata": {},
   "outputs": [
    {
     "data": {
      "text/plain": [
       "Counter({0: 10968, 1: 1389})"
      ]
     },
     "execution_count": 13,
     "metadata": {},
     "output_type": "execute_result"
    }
   ],
   "source": [
    "## Split the dataset in test and train\n",
    "from typing import Counter\n",
    "from sklearn.model_selection import train_test_split\n",
    "\n",
    "# Use test train split to split the dataset\n",
    "X_train, X_test, y_train, y_test = train_test_split(scaled_df, y, train_size= 0.7, random_state = 42)\n",
    "Counter(y_test)\n"
   ]
  },
  {
   "cell_type": "markdown",
   "metadata": {},
   "source": [
    "### Problem 7: A Baseline Model\n",
    "\n",
    "Before we build our first model, we want to establish a baseline.  What is the baseline performance that our classifier should aim to beat?"
   ]
  },
  {
   "cell_type": "code",
   "execution_count": 14,
   "metadata": {},
   "outputs": [
    {
     "name": "stdout",
     "output_type": "stream",
     "text": [
      "Baseline Score: 0.88759\n"
     ]
    }
   ],
   "source": [
    "## Generate score from baseline model to gauge the performance of models at latter stage. \n",
    "from sklearn.dummy import DummyClassifier\n",
    "from sklearn.metrics import classification_report\n",
    "\n",
    "# Call dummy classifier \n",
    "dummy_clf = DummyClassifier(strategy=\"most_frequent\")\n",
    "\n",
    "# Fit the classifier\n",
    "dummy_clf.fit(X_train, y_train)\n",
    "\n",
    "# Make predictions\n",
    "y_pred = dummy_clf.predict(X_train)\n",
    "\n",
    "# Evaluate the classifier\n",
    "print(\"Baseline Score:\", np.round(dummy_clf.score(X_test, y_test),5))\n",
    "\n",
    "## Generate classification report to baseline other parameters\n"
   ]
  },
  {
   "cell_type": "markdown",
   "metadata": {},
   "source": [
    "### Problem 8: A Simple Model\n",
    "\n",
    "Use Logistic Regression to build a basic model on your data.  "
   ]
  },
  {
   "cell_type": "code",
   "execution_count": 15,
   "metadata": {},
   "outputs": [],
   "source": [
    "## Imports for Regression\n",
    "\n",
    "from sklearn.linear_model import LogisticRegression\n",
    "import time\n",
    "\n",
    "# Initialize the model\n",
    "model_lr = LogisticRegression() \n",
    "\n",
    "# Fit the model & capture time to train \n",
    "start_time_p = time.perf_counter()\n",
    "model_lr.fit(X_train, y_train)\n",
    "end_time_p = time.perf_counter()\n",
    "\n",
    "# Predict on test data\n",
    "pTest_lr = model_lr.predict(X_test)\n",
    "\n",
    "#Predict model on training data\n",
    "pTrain_lr = model_lr.predict(X_train)\n",
    "\n",
    "# Elapsed time for model training\n",
    "lr_train_time = (end_time_p - start_time_p)\n"
   ]
  },
  {
   "cell_type": "markdown",
   "metadata": {},
   "source": [
    "### Problem 9: Score the Model\n",
    "\n",
    "What is the accuracy of your model?"
   ]
  },
  {
   "cell_type": "code",
   "execution_count": 16,
   "metadata": {},
   "outputs": [
    {
     "name": "stdout",
     "output_type": "stream",
     "text": [
      "Logistics Regression accuracy training score:  0.90972\n",
      "Logistics Regression accuracy testing score:  0.9105\n",
      "\n",
      "\n",
      "Logistics Regression Train time:  0.390194599996903\n",
      "\n",
      "\n",
      "\n",
      "**** Classification Matrix: **** \n",
      "              precision    recall  f1-score   support\n",
      "\n",
      "           0       0.93      0.97      0.95     10968\n",
      "           1       0.67      0.40      0.50      1389\n",
      "\n",
      "    accuracy                           0.91     12357\n",
      "   macro avg       0.80      0.69      0.73     12357\n",
      "weighted avg       0.90      0.91      0.90     12357\n",
      "\n"
     ]
    }
   ],
   "source": [
    "## Import Logistics Regression model accuracy score \n",
    "from sklearn.metrics import accuracy_score\n",
    "\n",
    "# Initialize list to capture the model comparison stats \n",
    "ct = []\n",
    "\n",
    "# Calculate the test & train accuracy score \n",
    "lr_acc_train = np.round(accuracy_score(y_train, pTrain_lr), 5)  # type: ignore\n",
    "lr_acc_test = np.round(accuracy_score(y_test, pTest_lr), 5) \n",
    "\n",
    "# Print the data and generate the classification report \n",
    "print('Logistics Regression accuracy training score: ', lr_acc_train)\n",
    "print('Logistics Regression accuracy testing score: ' , lr_acc_test)\n",
    "print('\\n')\n",
    "print('Logistics Regression Train time: ', lr_train_time)\n",
    "print('\\n\\n')\n",
    "print('**** Classification Matrix: **** ')\n",
    "print(classification_report(y_test, pTest_lr)) # type: ignore\n",
    "\n",
    "# Append the data to model comparison stats\n",
    "ct.append([\"Logistics Regression\", lr_train_time, lr_acc_train, lr_acc_test])\n"
   ]
  },
  {
   "cell_type": "markdown",
   "metadata": {},
   "source": [
    "### Problem 10: Model Comparisons\n",
    "\n",
    "Now, we aim to compare the performance of the Logistic Regression model to our KNN algorithm, Decision Tree, and SVM models.  Using the default settings for each of the models, fit and score each.  Also, be sure to compare the fit time of each of the models.  Present your findings in a `DataFrame` similar to that below:\n",
    "\n",
    "| Model | Train Time | Train Accuracy | Test Accuracy |\n",
    "| ----- | ---------- | -------------  | -----------   |\n",
    "|     |    |.     |.     |"
   ]
  },
  {
   "cell_type": "code",
   "execution_count": 17,
   "metadata": {},
   "outputs": [
    {
     "name": "stdout",
     "output_type": "stream",
     "text": [
      "end_time_p 74627.932694\n",
      "start_time_p 74627.9250559\n",
      "0.007638099996256642\n",
      "KNN accuracy training score:  0.92765\n",
      "KNN accuracy testing score:  0.90022\n",
      "\n",
      "\n",
      "KNN Train time:  0.007638099996256642\n",
      "\n",
      "\n",
      "\n",
      "**** Classification Matrix: **** \n",
      "              precision    recall  f1-score   support\n",
      "\n",
      "           0       0.93      0.96      0.94     10968\n",
      "           1       0.58      0.42      0.49      1389\n",
      "\n",
      "    accuracy                           0.90     12357\n",
      "   macro avg       0.75      0.69      0.72     12357\n",
      "weighted avg       0.89      0.90      0.89     12357\n",
      "\n"
     ]
    }
   ],
   "source": [
    "## Import Logistics Regression model accuracy score \n",
    "from time import process_time\n",
    "from time import perf_counter\n",
    "from sklearn.neighbors import KNeighborsClassifier\n",
    "from sklearn.metrics import accuracy_score\n",
    "\n",
    "# Initialise the variables \n",
    "model_knn = ''\n",
    "start_time_p = ''\n",
    "end_time_p = ''\n",
    "\n",
    "# Initialize the model\n",
    "model_knn = KNeighborsClassifier() \n",
    "\n",
    "# Fit the model & capture time to train \n",
    "start_time_p = time.perf_counter()\n",
    "\n",
    "# Perform fit on the model \n",
    "model_knn.fit(X_train, y_train) \n",
    "end_time_p = time.perf_counter()\n",
    "\n",
    "# Predict on test data\n",
    "pTest_knn = model_knn.predict(X_test)\n",
    "\n",
    "#Predict model on training data\n",
    "pTrain_knn = model_knn.predict(X_train)\n",
    "\n",
    "# Elapsed time for model training\n",
    "print('end_time_p',end_time_p)\n",
    "print('start_time_p',start_time_p)\n",
    "print(end_time_p - start_time_p)\n",
    "knn_train_time = (end_time_p - start_time_p)\n",
    "\n",
    "# Calculate the test & train accuracy score \n",
    "knn_acc_train = np.round(accuracy_score(y_train, pTrain_knn), 5)  # type: ignore\n",
    "knn_acc_test = np.round(accuracy_score(y_test, pTest_knn), 5) \n",
    "\n",
    "# Print the data and generate the classification report \n",
    "print('KNN accuracy training score: ', knn_acc_train)\n",
    "print('KNN accuracy testing score: ' , knn_acc_test)\n",
    "print('\\n')\n",
    "print('KNN Train time: ', knn_train_time)\n",
    "print('\\n\\n')\n",
    "print('**** Classification Matrix: **** ')\n",
    "print(classification_report(y_test, pTest_knn)) # type: ignore\n",
    "\n",
    "# Append the data to model comparison stats\n",
    "ct.append([\"KNN\", np.round(knn_train_time,6), knn_acc_train, knn_acc_test])"
   ]
  },
  {
   "cell_type": "code",
   "execution_count": 18,
   "metadata": {},
   "outputs": [
    {
     "name": "stdout",
     "output_type": "stream",
     "text": [
      "end_time_p 74639.1931551\n",
      "start_time_p 74638.7952118\n",
      "Decision Tree accuracy training score:  1.0\n",
      "Decision Tree accuracy testibg score:  0.88792\n",
      "\n",
      "\n",
      "Decision Tree Train time:  0.3979433000058634\n",
      "\n",
      "\n",
      "\n",
      "**** Classification Matrix: **** \n",
      "              precision    recall  f1-score   support\n",
      "\n",
      "           0       0.94      0.94      0.94     10968\n",
      "           1       0.50      0.50      0.50      1389\n",
      "\n",
      "    accuracy                           0.89     12357\n",
      "   macro avg       0.72      0.72      0.72     12357\n",
      "weighted avg       0.89      0.89      0.89     12357\n",
      "\n"
     ]
    }
   ],
   "source": [
    "## Import Logistics Regression model accuracy score \n",
    "\n",
    "import time\n",
    "from sklearn.metrics import accuracy_score\n",
    "from sklearn.tree import DecisionTreeClassifier\n",
    "\n",
    "# Initialize the model\n",
    "model_dtc = DecisionTreeClassifier() \n",
    "dtc_train_time = ''\n",
    "\n",
    "# Fit the model & capture time to train \n",
    "start_time_p = time.perf_counter()\n",
    "model_dtc.fit(X_train, y_train)\n",
    "end_time_p = time.perf_counter()\n",
    "\n",
    "# Predict on test data\n",
    "pTest_dtc = model_dtc.predict(X_test)\n",
    "\n",
    "#Predict model on training data\n",
    "pTrain_dtc = model_dtc.predict(X_train)\n",
    "\n",
    "# Elapsed time for model training\n",
    "print('end_time_p',end_time_p)\n",
    "print('start_time_p',start_time_p)\n",
    "\n",
    "dtc_train_time = (end_time_p - start_time_p)\n",
    "\n",
    "# Calculate the test & train accuracy score \n",
    "dtc_acc_train = np.round(accuracy_score(y_train, pTrain_dtc), 5)  # type: ignore\n",
    "dtc_acc_test = np.round(accuracy_score(y_test, pTest_dtc), 5) \n",
    "\n",
    "# Print the data and generate the classification report \n",
    "print('Decision Tree accuracy training score: ', dtc_acc_train)\n",
    "print('Decision Tree accuracy testibg score: ' , dtc_acc_test)\n",
    "print('\\n')\n",
    "print('Decision Tree Train time: ', dtc_train_time)\n",
    "print('\\n\\n')\n",
    "print('**** Classification Matrix: **** ')\n",
    "print(classification_report(y_test, pTest_dtc)) # type: ignore\n",
    "\n",
    "# Append the data to model comparision stats\n",
    "ct.append([\"Decision Tree Classifier\", dtc_train_time, dtc_acc_train, dtc_acc_test])"
   ]
  },
  {
   "cell_type": "code",
   "execution_count": 19,
   "metadata": {},
   "outputs": [
    {
     "name": "stdout",
     "output_type": "stream",
     "text": [
      "end_time_p 74667.9285358\n",
      "start_time_p 74639.3305329\n",
      "SVC accuracy training score:  0.91821\n",
      "SVC accuracy testing score:  0.90944\n",
      "\n",
      "\n",
      "SVC Train time:  28.598002900005667\n",
      "\n",
      "\n",
      "\n",
      "**** Classification Matrix: **** \n",
      "              precision    recall  f1-score   support\n",
      "\n",
      "           0       0.93      0.98      0.95     10968\n",
      "           1       0.67      0.38      0.48      1389\n",
      "\n",
      "    accuracy                           0.91     12357\n",
      "   macro avg       0.80      0.68      0.72     12357\n",
      "weighted avg       0.90      0.91      0.90     12357\n",
      "\n"
     ]
    }
   ],
   "source": [
    "import time\n",
    "from sklearn.metrics import accuracy_score\n",
    "from sklearn.svm import SVC \n",
    "\n",
    "# Initialize the model\n",
    "model_svc = SVC() \n",
    "\n",
    "# Fit the model & capture time to train \n",
    "start_time_p = time.perf_counter()\n",
    "model_svc.fit(X_train, y_train)\n",
    "end_time_p = time.perf_counter()\n",
    "\n",
    "# Predict on test data\n",
    "pTest_svc = model_svc.predict(X_test)\n",
    "\n",
    "#Predict model on training data\n",
    "pTrain_svc = model_svc.predict(X_train)\n",
    "\n",
    "# Elapsed time for model training\n",
    "print('end_time_p',end_time_p)\n",
    "print('start_time_p',start_time_p)\n",
    "\n",
    "svc_train_time = (end_time_p - start_time_p)\n",
    "\n",
    "# Calculate the test & train accuracy score \n",
    "svc_acc_train = np.round(accuracy_score(y_train, pTrain_svc), 5)  # type: ignore\n",
    "svc_acc_test = np.round(accuracy_score(y_test, pTest_svc), 5) \n",
    "\n",
    "# Print the data and generate the classification report \n",
    "print('SVC accuracy training score: ', svc_acc_train)\n",
    "print('SVC accuracy testing score: ' , svc_acc_test)\n",
    "print('\\n')\n",
    "print('SVC Train time: ', svc_train_time)\n",
    "print('\\n\\n')\n",
    "print('**** Classification Matrix: **** ')\n",
    "print(classification_report(y_test, pTest_svc)) # type: ignore\n",
    "\n",
    "# Append the data to model comparison stats\n",
    "ct.append([\"SVC\", svc_train_time, svc_acc_train, svc_acc_test])\n"
   ]
  },
  {
   "cell_type": "code",
   "execution_count": 20,
   "metadata": {},
   "outputs": [
    {
     "data": {
      "text/html": [
       "<div>\n",
       "<style scoped>\n",
       "    .dataframe tbody tr th:only-of-type {\n",
       "        vertical-align: middle;\n",
       "    }\n",
       "\n",
       "    .dataframe tbody tr th {\n",
       "        vertical-align: top;\n",
       "    }\n",
       "\n",
       "    .dataframe thead th {\n",
       "        text-align: right;\n",
       "    }\n",
       "</style>\n",
       "<table border=\"1\" class=\"dataframe\">\n",
       "  <thead>\n",
       "    <tr style=\"text-align: right;\">\n",
       "      <th></th>\n",
       "      <th>Train Time</th>\n",
       "      <th>Train Accuracy</th>\n",
       "      <th>Test Accuracy</th>\n",
       "    </tr>\n",
       "    <tr>\n",
       "      <th>Model</th>\n",
       "      <th></th>\n",
       "      <th></th>\n",
       "      <th></th>\n",
       "    </tr>\n",
       "  </thead>\n",
       "  <tbody>\n",
       "    <tr>\n",
       "      <th>Logistics Regression</th>\n",
       "      <td>0.390195</td>\n",
       "      <td>0.90972</td>\n",
       "      <td>0.91050</td>\n",
       "    </tr>\n",
       "    <tr>\n",
       "      <th>KNN</th>\n",
       "      <td>0.007638</td>\n",
       "      <td>0.92765</td>\n",
       "      <td>0.90022</td>\n",
       "    </tr>\n",
       "    <tr>\n",
       "      <th>Decision Tree Classifier</th>\n",
       "      <td>0.397943</td>\n",
       "      <td>1.00000</td>\n",
       "      <td>0.88792</td>\n",
       "    </tr>\n",
       "    <tr>\n",
       "      <th>SVC</th>\n",
       "      <td>28.598003</td>\n",
       "      <td>0.91821</td>\n",
       "      <td>0.90944</td>\n",
       "    </tr>\n",
       "  </tbody>\n",
       "</table>\n",
       "</div>"
      ],
      "text/plain": [
       "                          Train Time  Train Accuracy  Test Accuracy\n",
       "Model                                                              \n",
       "Logistics Regression        0.390195         0.90972        0.91050\n",
       "KNN                         0.007638         0.92765        0.90022\n",
       "Decision Tree Classifier    0.397943         1.00000        0.88792\n",
       "SVC                        28.598003         0.91821        0.90944"
      ]
     },
     "execution_count": 20,
     "metadata": {},
     "output_type": "execute_result"
    }
   ],
   "source": [
    "ct = pd.DataFrame(ct, columns=['Model', 'Train Time', 'Train Accuracy', 'Test Accuracy'])\n",
    "ct = ct.set_index('Model')\n",
    "ct"
   ]
  },
  {
   "cell_type": "markdown",
   "metadata": {},
   "source": [
    "### Problem 11: Improving the Model\n",
    "\n",
    "Now that we have some basic models on the board, we want to try to improve these.  Below, we list a few things to explore in this pursuit.\n",
    "\n",
    "- More feature engineering and exploration.  For example, should we keep the gender feature?  Why or why not?\n",
    "- Hyperparameter tuning and grid search.  All of our models have additional hyperparameters to tune and explore.  For example the number of neighbors in KNN or the maximum depth of a Decision Tree.  \n",
    "- Adjust your performance metric"
   ]
  },
  {
   "cell_type": "code",
   "execution_count": 21,
   "metadata": {},
   "outputs": [
    {
     "data": {
      "application/vnd.plotly.v1+json": {
       "config": {
        "plotlyServerURL": "https://plot.ly"
       },
       "data": [
        {
         "alignmentgroup": "True",
         "hovertemplate": "x=%{x}<br>y=%{y}<extra></extra>",
         "legendgroup": "",
         "marker": {
          "color": "#636efa",
          "pattern": {
           "shape": ""
          }
         },
         "name": "",
         "offsetgroup": "",
         "orientation": "h",
         "showlegend": false,
         "textposition": "auto",
         "texttemplate": "%{x}",
         "type": "bar",
         "x": [
          0,
          0,
          0,
          0,
          0.00006329963316975551,
          0.00006329963316975551,
          0.0003066228639552193,
          0.0003793153126719906,
          0.0003793153126719906,
          0.0016475531527220255,
          0.0034465149375102477,
          0.00406865662903888,
          0.004990474660957256,
          0.00967435253237503,
          0.00967435253237503,
          0.010168638638830885,
          0.01748250189970002,
          0.019338221764212626,
          0.02010455172185166,
          0.028665987740243315,
          0.03100871303490682,
          0.03407796420239162,
          0.05804683386880516,
          0.06423756946584458,
          0.07105020133821238,
          0.07105020133821238,
          0.08489310341999712,
          0.09609991268706963
         ],
         "xaxis": "x",
         "y": [
          "loan_yes",
          "campaign",
          "loan_no",
          "day_of_week",
          "housing_no",
          "housing_yes",
          "marital_divorced",
          "default_no",
          "default_yes",
          "education",
          "marital_single",
          "poutcome_failure",
          "marital_married",
          "contact_cellular",
          "contact_telephone",
          "age",
          "poutcome_nonexistent",
          "job",
          "previous",
          "poutcome_success",
          "pdays",
          "month",
          "emp.var.rate",
          "nr.employed",
          "cons.price.idx",
          "cons.conf.idx",
          "euribor3m",
          "duration"
         ],
         "yaxis": "y"
        }
       ],
       "layout": {
        "barmode": "relative",
        "height": 800,
        "legend": {
         "tracegroupgap": 0
        },
        "template": {
         "data": {
          "bar": [
           {
            "error_x": {
             "color": "#2a3f5f"
            },
            "error_y": {
             "color": "#2a3f5f"
            },
            "marker": {
             "line": {
              "color": "#E5ECF6",
              "width": 0.5
             },
             "pattern": {
              "fillmode": "overlay",
              "size": 10,
              "solidity": 0.2
             }
            },
            "type": "bar"
           }
          ],
          "barpolar": [
           {
            "marker": {
             "line": {
              "color": "#E5ECF6",
              "width": 0.5
             },
             "pattern": {
              "fillmode": "overlay",
              "size": 10,
              "solidity": 0.2
             }
            },
            "type": "barpolar"
           }
          ],
          "carpet": [
           {
            "aaxis": {
             "endlinecolor": "#2a3f5f",
             "gridcolor": "white",
             "linecolor": "white",
             "minorgridcolor": "white",
             "startlinecolor": "#2a3f5f"
            },
            "baxis": {
             "endlinecolor": "#2a3f5f",
             "gridcolor": "white",
             "linecolor": "white",
             "minorgridcolor": "white",
             "startlinecolor": "#2a3f5f"
            },
            "type": "carpet"
           }
          ],
          "choropleth": [
           {
            "colorbar": {
             "outlinewidth": 0,
             "ticks": ""
            },
            "type": "choropleth"
           }
          ],
          "contour": [
           {
            "colorbar": {
             "outlinewidth": 0,
             "ticks": ""
            },
            "colorscale": [
             [
              0,
              "#0d0887"
             ],
             [
              0.1111111111111111,
              "#46039f"
             ],
             [
              0.2222222222222222,
              "#7201a8"
             ],
             [
              0.3333333333333333,
              "#9c179e"
             ],
             [
              0.4444444444444444,
              "#bd3786"
             ],
             [
              0.5555555555555556,
              "#d8576b"
             ],
             [
              0.6666666666666666,
              "#ed7953"
             ],
             [
              0.7777777777777778,
              "#fb9f3a"
             ],
             [
              0.8888888888888888,
              "#fdca26"
             ],
             [
              1,
              "#f0f921"
             ]
            ],
            "type": "contour"
           }
          ],
          "contourcarpet": [
           {
            "colorbar": {
             "outlinewidth": 0,
             "ticks": ""
            },
            "type": "contourcarpet"
           }
          ],
          "heatmap": [
           {
            "colorbar": {
             "outlinewidth": 0,
             "ticks": ""
            },
            "colorscale": [
             [
              0,
              "#0d0887"
             ],
             [
              0.1111111111111111,
              "#46039f"
             ],
             [
              0.2222222222222222,
              "#7201a8"
             ],
             [
              0.3333333333333333,
              "#9c179e"
             ],
             [
              0.4444444444444444,
              "#bd3786"
             ],
             [
              0.5555555555555556,
              "#d8576b"
             ],
             [
              0.6666666666666666,
              "#ed7953"
             ],
             [
              0.7777777777777778,
              "#fb9f3a"
             ],
             [
              0.8888888888888888,
              "#fdca26"
             ],
             [
              1,
              "#f0f921"
             ]
            ],
            "type": "heatmap"
           }
          ],
          "heatmapgl": [
           {
            "colorbar": {
             "outlinewidth": 0,
             "ticks": ""
            },
            "colorscale": [
             [
              0,
              "#0d0887"
             ],
             [
              0.1111111111111111,
              "#46039f"
             ],
             [
              0.2222222222222222,
              "#7201a8"
             ],
             [
              0.3333333333333333,
              "#9c179e"
             ],
             [
              0.4444444444444444,
              "#bd3786"
             ],
             [
              0.5555555555555556,
              "#d8576b"
             ],
             [
              0.6666666666666666,
              "#ed7953"
             ],
             [
              0.7777777777777778,
              "#fb9f3a"
             ],
             [
              0.8888888888888888,
              "#fdca26"
             ],
             [
              1,
              "#f0f921"
             ]
            ],
            "type": "heatmapgl"
           }
          ],
          "histogram": [
           {
            "marker": {
             "pattern": {
              "fillmode": "overlay",
              "size": 10,
              "solidity": 0.2
             }
            },
            "type": "histogram"
           }
          ],
          "histogram2d": [
           {
            "colorbar": {
             "outlinewidth": 0,
             "ticks": ""
            },
            "colorscale": [
             [
              0,
              "#0d0887"
             ],
             [
              0.1111111111111111,
              "#46039f"
             ],
             [
              0.2222222222222222,
              "#7201a8"
             ],
             [
              0.3333333333333333,
              "#9c179e"
             ],
             [
              0.4444444444444444,
              "#bd3786"
             ],
             [
              0.5555555555555556,
              "#d8576b"
             ],
             [
              0.6666666666666666,
              "#ed7953"
             ],
             [
              0.7777777777777778,
              "#fb9f3a"
             ],
             [
              0.8888888888888888,
              "#fdca26"
             ],
             [
              1,
              "#f0f921"
             ]
            ],
            "type": "histogram2d"
           }
          ],
          "histogram2dcontour": [
           {
            "colorbar": {
             "outlinewidth": 0,
             "ticks": ""
            },
            "colorscale": [
             [
              0,
              "#0d0887"
             ],
             [
              0.1111111111111111,
              "#46039f"
             ],
             [
              0.2222222222222222,
              "#7201a8"
             ],
             [
              0.3333333333333333,
              "#9c179e"
             ],
             [
              0.4444444444444444,
              "#bd3786"
             ],
             [
              0.5555555555555556,
              "#d8576b"
             ],
             [
              0.6666666666666666,
              "#ed7953"
             ],
             [
              0.7777777777777778,
              "#fb9f3a"
             ],
             [
              0.8888888888888888,
              "#fdca26"
             ],
             [
              1,
              "#f0f921"
             ]
            ],
            "type": "histogram2dcontour"
           }
          ],
          "mesh3d": [
           {
            "colorbar": {
             "outlinewidth": 0,
             "ticks": ""
            },
            "type": "mesh3d"
           }
          ],
          "parcoords": [
           {
            "line": {
             "colorbar": {
              "outlinewidth": 0,
              "ticks": ""
             }
            },
            "type": "parcoords"
           }
          ],
          "pie": [
           {
            "automargin": true,
            "type": "pie"
           }
          ],
          "scatter": [
           {
            "fillpattern": {
             "fillmode": "overlay",
             "size": 10,
             "solidity": 0.2
            },
            "type": "scatter"
           }
          ],
          "scatter3d": [
           {
            "line": {
             "colorbar": {
              "outlinewidth": 0,
              "ticks": ""
             }
            },
            "marker": {
             "colorbar": {
              "outlinewidth": 0,
              "ticks": ""
             }
            },
            "type": "scatter3d"
           }
          ],
          "scattercarpet": [
           {
            "marker": {
             "colorbar": {
              "outlinewidth": 0,
              "ticks": ""
             }
            },
            "type": "scattercarpet"
           }
          ],
          "scattergeo": [
           {
            "marker": {
             "colorbar": {
              "outlinewidth": 0,
              "ticks": ""
             }
            },
            "type": "scattergeo"
           }
          ],
          "scattergl": [
           {
            "marker": {
             "colorbar": {
              "outlinewidth": 0,
              "ticks": ""
             }
            },
            "type": "scattergl"
           }
          ],
          "scattermapbox": [
           {
            "marker": {
             "colorbar": {
              "outlinewidth": 0,
              "ticks": ""
             }
            },
            "type": "scattermapbox"
           }
          ],
          "scatterpolar": [
           {
            "marker": {
             "colorbar": {
              "outlinewidth": 0,
              "ticks": ""
             }
            },
            "type": "scatterpolar"
           }
          ],
          "scatterpolargl": [
           {
            "marker": {
             "colorbar": {
              "outlinewidth": 0,
              "ticks": ""
             }
            },
            "type": "scatterpolargl"
           }
          ],
          "scatterternary": [
           {
            "marker": {
             "colorbar": {
              "outlinewidth": 0,
              "ticks": ""
             }
            },
            "type": "scatterternary"
           }
          ],
          "surface": [
           {
            "colorbar": {
             "outlinewidth": 0,
             "ticks": ""
            },
            "colorscale": [
             [
              0,
              "#0d0887"
             ],
             [
              0.1111111111111111,
              "#46039f"
             ],
             [
              0.2222222222222222,
              "#7201a8"
             ],
             [
              0.3333333333333333,
              "#9c179e"
             ],
             [
              0.4444444444444444,
              "#bd3786"
             ],
             [
              0.5555555555555556,
              "#d8576b"
             ],
             [
              0.6666666666666666,
              "#ed7953"
             ],
             [
              0.7777777777777778,
              "#fb9f3a"
             ],
             [
              0.8888888888888888,
              "#fdca26"
             ],
             [
              1,
              "#f0f921"
             ]
            ],
            "type": "surface"
           }
          ],
          "table": [
           {
            "cells": {
             "fill": {
              "color": "#EBF0F8"
             },
             "line": {
              "color": "white"
             }
            },
            "header": {
             "fill": {
              "color": "#C8D4E3"
             },
             "line": {
              "color": "white"
             }
            },
            "type": "table"
           }
          ]
         },
         "layout": {
          "annotationdefaults": {
           "arrowcolor": "#2a3f5f",
           "arrowhead": 0,
           "arrowwidth": 1
          },
          "autotypenumbers": "strict",
          "coloraxis": {
           "colorbar": {
            "outlinewidth": 0,
            "ticks": ""
           }
          },
          "colorscale": {
           "diverging": [
            [
             0,
             "#8e0152"
            ],
            [
             0.1,
             "#c51b7d"
            ],
            [
             0.2,
             "#de77ae"
            ],
            [
             0.3,
             "#f1b6da"
            ],
            [
             0.4,
             "#fde0ef"
            ],
            [
             0.5,
             "#f7f7f7"
            ],
            [
             0.6,
             "#e6f5d0"
            ],
            [
             0.7,
             "#b8e186"
            ],
            [
             0.8,
             "#7fbc41"
            ],
            [
             0.9,
             "#4d9221"
            ],
            [
             1,
             "#276419"
            ]
           ],
           "sequential": [
            [
             0,
             "#0d0887"
            ],
            [
             0.1111111111111111,
             "#46039f"
            ],
            [
             0.2222222222222222,
             "#7201a8"
            ],
            [
             0.3333333333333333,
             "#9c179e"
            ],
            [
             0.4444444444444444,
             "#bd3786"
            ],
            [
             0.5555555555555556,
             "#d8576b"
            ],
            [
             0.6666666666666666,
             "#ed7953"
            ],
            [
             0.7777777777777778,
             "#fb9f3a"
            ],
            [
             0.8888888888888888,
             "#fdca26"
            ],
            [
             1,
             "#f0f921"
            ]
           ],
           "sequentialminus": [
            [
             0,
             "#0d0887"
            ],
            [
             0.1111111111111111,
             "#46039f"
            ],
            [
             0.2222222222222222,
             "#7201a8"
            ],
            [
             0.3333333333333333,
             "#9c179e"
            ],
            [
             0.4444444444444444,
             "#bd3786"
            ],
            [
             0.5555555555555556,
             "#d8576b"
            ],
            [
             0.6666666666666666,
             "#ed7953"
            ],
            [
             0.7777777777777778,
             "#fb9f3a"
            ],
            [
             0.8888888888888888,
             "#fdca26"
            ],
            [
             1,
             "#f0f921"
            ]
           ]
          },
          "colorway": [
           "#636efa",
           "#EF553B",
           "#00cc96",
           "#ab63fa",
           "#FFA15A",
           "#19d3f3",
           "#FF6692",
           "#B6E880",
           "#FF97FF",
           "#FECB52"
          ],
          "font": {
           "color": "#2a3f5f"
          },
          "geo": {
           "bgcolor": "white",
           "lakecolor": "white",
           "landcolor": "#E5ECF6",
           "showlakes": true,
           "showland": true,
           "subunitcolor": "white"
          },
          "hoverlabel": {
           "align": "left"
          },
          "hovermode": "closest",
          "mapbox": {
           "style": "light"
          },
          "paper_bgcolor": "white",
          "plot_bgcolor": "#E5ECF6",
          "polar": {
           "angularaxis": {
            "gridcolor": "white",
            "linecolor": "white",
            "ticks": ""
           },
           "bgcolor": "#E5ECF6",
           "radialaxis": {
            "gridcolor": "white",
            "linecolor": "white",
            "ticks": ""
           }
          },
          "scene": {
           "xaxis": {
            "backgroundcolor": "#E5ECF6",
            "gridcolor": "white",
            "gridwidth": 2,
            "linecolor": "white",
            "showbackground": true,
            "ticks": "",
            "zerolinecolor": "white"
           },
           "yaxis": {
            "backgroundcolor": "#E5ECF6",
            "gridcolor": "white",
            "gridwidth": 2,
            "linecolor": "white",
            "showbackground": true,
            "ticks": "",
            "zerolinecolor": "white"
           },
           "zaxis": {
            "backgroundcolor": "#E5ECF6",
            "gridcolor": "white",
            "gridwidth": 2,
            "linecolor": "white",
            "showbackground": true,
            "ticks": "",
            "zerolinecolor": "white"
           }
          },
          "shapedefaults": {
           "line": {
            "color": "#2a3f5f"
           }
          },
          "ternary": {
           "aaxis": {
            "gridcolor": "white",
            "linecolor": "white",
            "ticks": ""
           },
           "baxis": {
            "gridcolor": "white",
            "linecolor": "white",
            "ticks": ""
           },
           "bgcolor": "#E5ECF6",
           "caxis": {
            "gridcolor": "white",
            "linecolor": "white",
            "ticks": ""
           }
          },
          "title": {
           "x": 0.05
          },
          "xaxis": {
           "automargin": true,
           "gridcolor": "white",
           "linecolor": "white",
           "ticks": "",
           "title": {
            "standoff": 15
           },
           "zerolinecolor": "white",
           "zerolinewidth": 2
          },
          "yaxis": {
           "automargin": true,
           "gridcolor": "white",
           "linecolor": "white",
           "ticks": "",
           "title": {
            "standoff": 15
           },
           "zerolinecolor": "white",
           "zerolinewidth": 2
          }
         }
        },
        "title": {
         "text": "Mutual Information Feature Scores"
        },
        "width": 1000,
        "xaxis": {
         "anchor": "y",
         "domain": [
          0,
          1
         ],
         "title": {
          "text": "x"
         }
        },
        "yaxis": {
         "anchor": "x",
         "domain": [
          0,
          1
         ],
         "title": {
          "text": "y"
         }
        }
       }
      }
     },
     "metadata": {},
     "output_type": "display_data"
    },
    {
     "name": "stdout",
     "output_type": "stream",
     "text": [
      "loan_yes                0.000000\n",
      "campaign                0.000000\n",
      "loan_no                 0.000000\n",
      "day_of_week             0.000000\n",
      "housing_no              0.000063\n",
      "housing_yes             0.000063\n",
      "marital_divorced        0.000307\n",
      "default_no              0.000379\n",
      "default_yes             0.000379\n",
      "education               0.001648\n",
      "marital_single          0.003447\n",
      "poutcome_failure        0.004069\n",
      "marital_married         0.004990\n",
      "contact_cellular        0.009674\n",
      "contact_telephone       0.009674\n",
      "age                     0.010169\n",
      "poutcome_nonexistent    0.017483\n",
      "job                     0.019338\n",
      "previous                0.020105\n",
      "poutcome_success        0.028666\n",
      "pdays                   0.031009\n",
      "month                   0.034078\n",
      "emp.var.rate            0.058047\n",
      "nr.employed             0.064238\n",
      "cons.price.idx          0.071050\n",
      "cons.conf.idx           0.071050\n",
      "euribor3m               0.084893\n",
      "duration                0.096100\n",
      "Name: MI Scores, dtype: float64\n"
     ]
    }
   ],
   "source": [
    "#### FEATURE Engineering ####\n",
    "## 1. We have executed the RandomForestClassifier to generate the feature importance in *** Refer Cell#250 *** \n",
    "## 2. Evaluated score using Mutual_info_regression\n",
    "\n",
    "# Perform the imports \n",
    "from sklearn.feature_selection import mutual_info_regression\n",
    "discrete_features = scaled_df.dtypes == float\n",
    "\n",
    "# Define function for mutual information feature score \n",
    "def make_mi_scores(scaled_df, y, discrete_features):\n",
    "    mi_scores = mutual_info_regression(scaled_df, y, discrete_features=discrete_features)\n",
    "    mi_scores = pd.Series(mi_scores, name=\"MI Scores\", index=scaled_df.columns)\n",
    "    mi_scores = mi_scores.sort_values(ascending=False)\n",
    "    return mi_scores\n",
    "\n",
    "# Generate the feature Score \n",
    "mi_scores = make_mi_scores(scaled_df, y, discrete_features)\n",
    "mi_scores[::3]  # show a few features with their MI scores\n",
    "\n",
    "# Plot the scores\n",
    "def plot_mi_scores(scores):\n",
    "    scores = scores.sort_values(ascending=True)\n",
    "    width = np.arange(len(scores))\n",
    "    ticks = list(scores.index)\n",
    "    fig = px.bar(x=scores, y=ticks, title='Mutual Information Feature Scores', width=1000, height=800,text_auto=True)\n",
    "    fig.show()\n",
    "    print(scores)\n",
    "\n",
    "plot_mi_scores(mi_scores)\n"
   ]
  },
  {
   "cell_type": "markdown",
   "metadata": {},
   "source": [
    "Feature selection & feature scoring outcome is approximately same when applying PCA, Random Forest & mutual_info_regression. Re-evaluating the model by dropping last 12 features and trying with multiple combination of hyperparameter. "
   ]
  },
  {
   "cell_type": "code",
   "execution_count": 22,
   "metadata": {},
   "outputs": [
    {
     "data": {
      "text/html": [
       "<div>\n",
       "<style scoped>\n",
       "    .dataframe tbody tr th:only-of-type {\n",
       "        vertical-align: middle;\n",
       "    }\n",
       "\n",
       "    .dataframe tbody tr th {\n",
       "        vertical-align: top;\n",
       "    }\n",
       "\n",
       "    .dataframe thead th {\n",
       "        text-align: right;\n",
       "    }\n",
       "</style>\n",
       "<table border=\"1\" class=\"dataframe\">\n",
       "  <thead>\n",
       "    <tr style=\"text-align: right;\">\n",
       "      <th></th>\n",
       "      <th>job</th>\n",
       "      <th>contact_telephone</th>\n",
       "      <th>contact_cellular</th>\n",
       "      <th>age</th>\n",
       "      <th>poutcome_nonexistent</th>\n",
       "      <th>previous</th>\n",
       "      <th>month</th>\n",
       "      <th>poutcome_success</th>\n",
       "      <th>pdays</th>\n",
       "      <th>emp.var.rate</th>\n",
       "      <th>nr.employed</th>\n",
       "      <th>cons.price.idx</th>\n",
       "      <th>cons.conf.idx</th>\n",
       "      <th>euribor3m</th>\n",
       "      <th>duration</th>\n",
       "      <th>campaign</th>\n",
       "    </tr>\n",
       "  </thead>\n",
       "  <tbody>\n",
       "    <tr>\n",
       "      <th>0</th>\n",
       "      <td>-0.204918</td>\n",
       "      <td>1.31827</td>\n",
       "      <td>-1.31827</td>\n",
       "      <td>1.533034</td>\n",
       "      <td>0.397706</td>\n",
       "      <td>-0.349494</td>\n",
       "      <td>-0.591134</td>\n",
       "      <td>-0.1857</td>\n",
       "      <td>0.195414</td>\n",
       "      <td>0.648092</td>\n",
       "      <td>0.331680</td>\n",
       "      <td>0.722722</td>\n",
       "      <td>0.886447</td>\n",
       "      <td>0.712460</td>\n",
       "      <td>0.010471</td>\n",
       "      <td>-0.565922</td>\n",
       "    </tr>\n",
       "    <tr>\n",
       "      <th>1</th>\n",
       "      <td>-0.613086</td>\n",
       "      <td>1.31827</td>\n",
       "      <td>-1.31827</td>\n",
       "      <td>1.628993</td>\n",
       "      <td>0.397706</td>\n",
       "      <td>-0.349494</td>\n",
       "      <td>-0.549439</td>\n",
       "      <td>-0.1857</td>\n",
       "      <td>0.195414</td>\n",
       "      <td>0.648092</td>\n",
       "      <td>0.331680</td>\n",
       "      <td>0.722722</td>\n",
       "      <td>0.886447</td>\n",
       "      <td>0.712460</td>\n",
       "      <td>-0.421501</td>\n",
       "      <td>-0.565922</td>\n",
       "    </tr>\n",
       "    <tr>\n",
       "      <th>2</th>\n",
       "      <td>-0.626776</td>\n",
       "      <td>1.31827</td>\n",
       "      <td>-1.31827</td>\n",
       "      <td>-0.290186</td>\n",
       "      <td>0.397706</td>\n",
       "      <td>-0.349494</td>\n",
       "      <td>-0.543903</td>\n",
       "      <td>-0.1857</td>\n",
       "      <td>0.195414</td>\n",
       "      <td>0.648092</td>\n",
       "      <td>0.331680</td>\n",
       "      <td>0.722722</td>\n",
       "      <td>0.886447</td>\n",
       "      <td>0.712460</td>\n",
       "      <td>-0.124520</td>\n",
       "      <td>-0.565922</td>\n",
       "    </tr>\n",
       "    <tr>\n",
       "      <th>3</th>\n",
       "      <td>0.359310</td>\n",
       "      <td>1.31827</td>\n",
       "      <td>-1.31827</td>\n",
       "      <td>-0.002309</td>\n",
       "      <td>0.397706</td>\n",
       "      <td>-0.349494</td>\n",
       "      <td>-0.549926</td>\n",
       "      <td>-0.1857</td>\n",
       "      <td>0.195414</td>\n",
       "      <td>0.648092</td>\n",
       "      <td>0.331680</td>\n",
       "      <td>0.722722</td>\n",
       "      <td>0.886447</td>\n",
       "      <td>0.712460</td>\n",
       "      <td>-0.413787</td>\n",
       "      <td>-0.565922</td>\n",
       "    </tr>\n",
       "    <tr>\n",
       "      <th>4</th>\n",
       "      <td>-0.622398</td>\n",
       "      <td>1.31827</td>\n",
       "      <td>-1.31827</td>\n",
       "      <td>1.533034</td>\n",
       "      <td>0.397706</td>\n",
       "      <td>-0.349494</td>\n",
       "      <td>-0.554208</td>\n",
       "      <td>-0.1857</td>\n",
       "      <td>0.195414</td>\n",
       "      <td>0.648092</td>\n",
       "      <td>0.331680</td>\n",
       "      <td>0.722722</td>\n",
       "      <td>0.886447</td>\n",
       "      <td>0.712460</td>\n",
       "      <td>0.187888</td>\n",
       "      <td>-0.565922</td>\n",
       "    </tr>\n",
       "    <tr>\n",
       "      <th>...</th>\n",
       "      <td>...</td>\n",
       "      <td>...</td>\n",
       "      <td>...</td>\n",
       "      <td>...</td>\n",
       "      <td>...</td>\n",
       "      <td>...</td>\n",
       "      <td>...</td>\n",
       "      <td>...</td>\n",
       "      <td>...</td>\n",
       "      <td>...</td>\n",
       "      <td>...</td>\n",
       "      <td>...</td>\n",
       "      <td>...</td>\n",
       "      <td>...</td>\n",
       "      <td>...</td>\n",
       "      <td>...</td>\n",
       "    </tr>\n",
       "    <tr>\n",
       "      <th>41183</th>\n",
       "      <td>2.739499</td>\n",
       "      <td>-0.75857</td>\n",
       "      <td>0.75857</td>\n",
       "      <td>3.164336</td>\n",
       "      <td>0.397706</td>\n",
       "      <td>-0.349494</td>\n",
       "      <td>-0.139394</td>\n",
       "      <td>-0.1857</td>\n",
       "      <td>0.195414</td>\n",
       "      <td>-0.752343</td>\n",
       "      <td>-2.815697</td>\n",
       "      <td>2.058168</td>\n",
       "      <td>-2.224953</td>\n",
       "      <td>-1.495186</td>\n",
       "      <td>0.292025</td>\n",
       "      <td>-0.565922</td>\n",
       "    </tr>\n",
       "    <tr>\n",
       "      <th>41184</th>\n",
       "      <td>-0.928151</td>\n",
       "      <td>-0.75857</td>\n",
       "      <td>0.75857</td>\n",
       "      <td>0.573445</td>\n",
       "      <td>0.397706</td>\n",
       "      <td>-0.349494</td>\n",
       "      <td>-0.139394</td>\n",
       "      <td>-0.1857</td>\n",
       "      <td>0.195414</td>\n",
       "      <td>-0.752343</td>\n",
       "      <td>-2.815697</td>\n",
       "      <td>2.058168</td>\n",
       "      <td>-2.224953</td>\n",
       "      <td>-1.495186</td>\n",
       "      <td>0.481012</td>\n",
       "      <td>-0.565922</td>\n",
       "    </tr>\n",
       "    <tr>\n",
       "      <th>41185</th>\n",
       "      <td>3.005755</td>\n",
       "      <td>-0.75857</td>\n",
       "      <td>0.75857</td>\n",
       "      <td>1.533034</td>\n",
       "      <td>0.397706</td>\n",
       "      <td>-0.349494</td>\n",
       "      <td>-0.092455</td>\n",
       "      <td>-0.1857</td>\n",
       "      <td>0.195414</td>\n",
       "      <td>-0.752343</td>\n",
       "      <td>-2.815697</td>\n",
       "      <td>2.058168</td>\n",
       "      <td>-2.224953</td>\n",
       "      <td>-1.495186</td>\n",
       "      <td>-0.267225</td>\n",
       "      <td>-0.204909</td>\n",
       "    </tr>\n",
       "    <tr>\n",
       "      <th>41186</th>\n",
       "      <td>-0.131831</td>\n",
       "      <td>-0.75857</td>\n",
       "      <td>0.75857</td>\n",
       "      <td>0.381527</td>\n",
       "      <td>0.397706</td>\n",
       "      <td>-0.349494</td>\n",
       "      <td>-0.128022</td>\n",
       "      <td>-0.1857</td>\n",
       "      <td>0.195414</td>\n",
       "      <td>-0.752343</td>\n",
       "      <td>-2.815697</td>\n",
       "      <td>2.058168</td>\n",
       "      <td>-2.224953</td>\n",
       "      <td>-1.495186</td>\n",
       "      <td>0.708569</td>\n",
       "      <td>-0.565922</td>\n",
       "    </tr>\n",
       "    <tr>\n",
       "      <th>41187</th>\n",
       "      <td>2.898781</td>\n",
       "      <td>-0.75857</td>\n",
       "      <td>0.75857</td>\n",
       "      <td>3.260295</td>\n",
       "      <td>-2.514421</td>\n",
       "      <td>1.671136</td>\n",
       "      <td>-0.124663</td>\n",
       "      <td>-0.1857</td>\n",
       "      <td>0.195414</td>\n",
       "      <td>-0.752343</td>\n",
       "      <td>-2.815697</td>\n",
       "      <td>2.058168</td>\n",
       "      <td>-2.224953</td>\n",
       "      <td>-1.495186</td>\n",
       "      <td>-0.074380</td>\n",
       "      <td>0.156105</td>\n",
       "    </tr>\n",
       "  </tbody>\n",
       "</table>\n",
       "<p>41188 rows × 16 columns</p>\n",
       "</div>"
      ],
      "text/plain": [
       "            job  contact_telephone  contact_cellular       age  \\\n",
       "0     -0.204918            1.31827          -1.31827  1.533034   \n",
       "1     -0.613086            1.31827          -1.31827  1.628993   \n",
       "2     -0.626776            1.31827          -1.31827 -0.290186   \n",
       "3      0.359310            1.31827          -1.31827 -0.002309   \n",
       "4     -0.622398            1.31827          -1.31827  1.533034   \n",
       "...         ...                ...               ...       ...   \n",
       "41183  2.739499           -0.75857           0.75857  3.164336   \n",
       "41184 -0.928151           -0.75857           0.75857  0.573445   \n",
       "41185  3.005755           -0.75857           0.75857  1.533034   \n",
       "41186 -0.131831           -0.75857           0.75857  0.381527   \n",
       "41187  2.898781           -0.75857           0.75857  3.260295   \n",
       "\n",
       "       poutcome_nonexistent  previous     month  poutcome_success     pdays  \\\n",
       "0                  0.397706 -0.349494 -0.591134           -0.1857  0.195414   \n",
       "1                  0.397706 -0.349494 -0.549439           -0.1857  0.195414   \n",
       "2                  0.397706 -0.349494 -0.543903           -0.1857  0.195414   \n",
       "3                  0.397706 -0.349494 -0.549926           -0.1857  0.195414   \n",
       "4                  0.397706 -0.349494 -0.554208           -0.1857  0.195414   \n",
       "...                     ...       ...       ...               ...       ...   \n",
       "41183              0.397706 -0.349494 -0.139394           -0.1857  0.195414   \n",
       "41184              0.397706 -0.349494 -0.139394           -0.1857  0.195414   \n",
       "41185              0.397706 -0.349494 -0.092455           -0.1857  0.195414   \n",
       "41186              0.397706 -0.349494 -0.128022           -0.1857  0.195414   \n",
       "41187             -2.514421  1.671136 -0.124663           -0.1857  0.195414   \n",
       "\n",
       "       emp.var.rate  nr.employed  cons.price.idx  cons.conf.idx  euribor3m  \\\n",
       "0          0.648092     0.331680        0.722722       0.886447   0.712460   \n",
       "1          0.648092     0.331680        0.722722       0.886447   0.712460   \n",
       "2          0.648092     0.331680        0.722722       0.886447   0.712460   \n",
       "3          0.648092     0.331680        0.722722       0.886447   0.712460   \n",
       "4          0.648092     0.331680        0.722722       0.886447   0.712460   \n",
       "...             ...          ...             ...            ...        ...   \n",
       "41183     -0.752343    -2.815697        2.058168      -2.224953  -1.495186   \n",
       "41184     -0.752343    -2.815697        2.058168      -2.224953  -1.495186   \n",
       "41185     -0.752343    -2.815697        2.058168      -2.224953  -1.495186   \n",
       "41186     -0.752343    -2.815697        2.058168      -2.224953  -1.495186   \n",
       "41187     -0.752343    -2.815697        2.058168      -2.224953  -1.495186   \n",
       "\n",
       "       duration  campaign  \n",
       "0      0.010471 -0.565922  \n",
       "1     -0.421501 -0.565922  \n",
       "2     -0.124520 -0.565922  \n",
       "3     -0.413787 -0.565922  \n",
       "4      0.187888 -0.565922  \n",
       "...         ...       ...  \n",
       "41183  0.292025 -0.565922  \n",
       "41184  0.481012 -0.565922  \n",
       "41185 -0.267225 -0.204909  \n",
       "41186  0.708569 -0.565922  \n",
       "41187 -0.074380  0.156105  \n",
       "\n",
       "[41188 rows x 16 columns]"
      ]
     },
     "execution_count": 22,
     "metadata": {},
     "output_type": "execute_result"
    }
   ],
   "source": [
    "## Selecting dataframe with Top 15 features after analyzing the features scores from Random forest & mutual info regression\n",
    "df_s = scaled_df[['job', 'contact_telephone', 'contact_cellular', 'age', 'poutcome_nonexistent', 'previous', 'month', 'poutcome_success', 'pdays','emp.var.rate','nr.employed', 'cons.price.idx', 'cons.conf.idx', 'euribor3m', 'duration','campaign']] \n",
    "df_s"
   ]
  },
  {
   "cell_type": "code",
   "execution_count": 23,
   "metadata": {},
   "outputs": [
    {
     "data": {
      "text/plain": [
       "Counter({0: 10968, 1: 1389})"
      ]
     },
     "execution_count": 23,
     "metadata": {},
     "output_type": "execute_result"
    }
   ],
   "source": [
    "## Generate the Test & Train dataset using reduced features \n",
    "X_train_s, X_test_s, y_train, y_test = train_test_split(df_s, y, train_size= 0.7, random_state = 42)\n",
    "Counter(y_test)\n"
   ]
  },
  {
   "cell_type": "code",
   "execution_count": 24,
   "metadata": {},
   "outputs": [],
   "source": [
    "from sklearn.model_selection import GridSearchCV\n",
    "\n",
    "## Initialize the improvement counter\n",
    "ct_i = []\n",
    "## Generate the parm values\n",
    "param =  { \n",
    "    'C': [0.1, 1, 10,20,30,40,50,60]}\n",
    "\n",
    "# Apply grid cross validation technique to iterate over Params  \n",
    "grid_search_lr = GridSearchCV(estimator=model_lr, param_grid = param, cv=5)\n",
    "\n",
    "# Fit the model\n",
    "grid_search_lr.fit(X_train_s, y_train)\n",
    "\n",
    "# Predict on Train & Test data\n",
    "pTr_lr = pTr = grid_search_lr.predict(X_train_s)\n",
    "pTs = grid_search_lr.predict(X_test_s)\n",
    "\n",
    "# Calculate the test & train accuracy score \n",
    "svc_acc_train = np.round(accuracy_score(y_train, pTr), 5)\n",
    "svc_acc_test = np.round(accuracy_score(y_test, pTs), 5) \n",
    "cv = pd.DataFrame(grid_search_lr.cv_results_)\n",
    "\n",
    "## Append the value to the dataframe\n",
    "best_grid_time=np.round(cv.query('rank_test_score == 1')['mean_fit_time'].iloc[0],5)\n",
    "ct_i.append([\"Logistics Regression Tuned\",best_grid_time , svc_acc_train, svc_acc_test])\n",
    "\n",
    "\n"
   ]
  },
  {
   "cell_type": "code",
   "execution_count": 25,
   "metadata": {},
   "outputs": [
    {
     "data": {
      "text/plain": [
       "[['Logistics Regression Tuned', 0.15678, 0.90923, 0.9109],\n",
       " ['KNN Tuned', 0.01007, 0.91506, 0.90831]]"
      ]
     },
     "execution_count": 25,
     "metadata": {},
     "output_type": "execute_result"
    }
   ],
   "source": [
    "## Generate the parm values\n",
    "param = {'n_neighbors':[1, 3 ,5, 7, 10, 15, 20],}\n",
    "\n",
    "# Apply grid cross validation technique to iterate over Params \n",
    "grid_search_knn = GridSearchCV(estimator=model_knn, param_grid = param, cv=5)\n",
    "\n",
    "# Fit the model\n",
    "grid_search_knn.fit(X_train_s, y_train)\n",
    "\n",
    "# Predict on Train & Test data\n",
    "pTr_knn = pTr = grid_search_knn.predict(X_train_s)\n",
    "pTs = grid_search_knn.predict(X_test_s)\n",
    "\n",
    "# Calculate the test & train accuracy score \n",
    "svc_acc_train = np.round(accuracy_score(y_train, pTr), 5)\n",
    "svc_acc_test = np.round(accuracy_score(y_test, pTs), 5)\n",
    "\n",
    "# Capture the cross validation result \n",
    "cv = pd.DataFrame(grid_search_knn.cv_results_)\n",
    "\n",
    "## Append the value to the dataframe\n",
    "best_grid_time=np.round(cv.query('rank_test_score == 1')['mean_fit_time'].iloc[0],5)\n",
    "ct_i.append([\"KNN Tuned\",best_grid_time , svc_acc_train, svc_acc_test])\n",
    "\n",
    "# Print the dataset\n",
    "ct_i"
   ]
  },
  {
   "cell_type": "code",
   "execution_count": 26,
   "metadata": {},
   "outputs": [
    {
     "data": {
      "text/plain": [
       "[['Logistics Regression Tuned', 0.15678, 0.90923, 0.9109],\n",
       " ['KNN Tuned', 0.01007, 0.91506, 0.90831],\n",
       " ['Decision Tree Classifier Tuned', 0.10011, 0.88724, 0.88759]]"
      ]
     },
     "execution_count": 26,
     "metadata": {},
     "output_type": "execute_result"
    }
   ],
   "source": [
    "## Generate the parm values\n",
    "param =  {\n",
    "    'ccp_alpha': [1,2,3,4,5], \n",
    "    'max_depth': [5, 7, 10,15, 20,30],\n",
    "    'criterion': [\"gini\", \"entropy\"] }\n",
    "\n",
    "# Apply grid cross validation technique to iterate over parms \n",
    "grid_search_dtc = GridSearchCV(estimator=model_dtc, param_grid = param, cv=5)\n",
    "\n",
    "# Fit the model\n",
    "grid_search_dtc.fit(X_train_s, y_train)\n",
    "\n",
    "# Predict on Train & Test data\n",
    "pTr_dtc = pTr = grid_search_dtc.predict(X_train_s)\n",
    "pTs = grid_search_dtc.predict(X_test_s)\n",
    "\n",
    "# Calculate the test & train accuracy score \n",
    "svc_acc_train = np.round(accuracy_score(y_train, pTr), 5)\n",
    "svc_acc_test = np.round(accuracy_score(y_test, pTs), 5)\n",
    "cv = pd.DataFrame(grid_search_dtc.cv_results_)\n",
    "\n",
    "## Append the value to the dataframe\n",
    "best_grid_time=np.round(cv.query('rank_test_score == 1')['mean_fit_time'].iloc[0],5)\n",
    "ct_i.append([\"Decision Tree Classifier Tuned\",best_grid_time , svc_acc_train, svc_acc_test])\n",
    "ct_i\n"
   ]
  },
  {
   "cell_type": "code",
   "execution_count": 27,
   "metadata": {},
   "outputs": [
    {
     "data": {
      "text/plain": [
       "[['Logistics Regression Tuned', 0.15678, 0.90923, 0.9109],\n",
       " ['KNN Tuned', 0.01007, 0.91506, 0.90831],\n",
       " ['Decision Tree Classifier Tuned', 0.10011, 0.88724, 0.88759],\n",
       " ['SVC Tuned', 34.07788, 0.91946, 0.91106]]"
      ]
     },
     "execution_count": 27,
     "metadata": {},
     "output_type": "execute_result"
    }
   ],
   "source": [
    "## Generate the parm values\n",
    "\n",
    "param = { 'C': [0.1, 1, 10],\n",
    "          'gamma': [10**-4, 10**-3, 10**-2, 10**-1, 1, 10],\n",
    "        }\n",
    "\n",
    "# Apply grid cross validation technique to iterate over parms \n",
    "grid_search_svc = GridSearchCV(estimator=model_svc, param_grid = param, cv=3, n_jobs=-1)\n",
    "\n",
    "# Fit the model\n",
    "grid_search_svc.fit(X_train_s, y_train)\n",
    "\n",
    "# Predict on Train & Test data\n",
    "pTr_svc = pTr = grid_search_svc.predict(X_train_s)\n",
    "pTs = grid_search_svc.predict(X_test_s)\n",
    "\n",
    "# Calculate the test & train accuracy score \n",
    "svc_acc_train = np.round(accuracy_score(y_train, pTr), 5)\n",
    "svc_acc_test = np.round(accuracy_score(y_test, pTs), 5)\n",
    "cv = pd.DataFrame(grid_search_svc.cv_results_)\n",
    "\n",
    "## Append the value to the dataframe\n",
    "best_grid_time=np.round(cv.query('rank_test_score == 1')['mean_fit_time'].iloc[0],5)\n",
    "ct_i.append([\"SVC Tuned\",best_grid_time , svc_acc_train, svc_acc_test])\n",
    "ct_i\n"
   ]
  },
  {
   "cell_type": "code",
   "execution_count": 28,
   "metadata": {},
   "outputs": [],
   "source": [
    "## Convert model performance \n",
    "ct_i = pd.DataFrame(ct_i, columns=['Model', 'Train Time', 'Train Accuracy', 'Test Accuracy'])\n",
    "# set index\n",
    "ct_i = ct_i.set_index('Model')"
   ]
  },
  {
   "cell_type": "code",
   "execution_count": 29,
   "metadata": {},
   "outputs": [],
   "source": [
    "# Concatenate the base and iteration dataframe\n",
    "counter = pd.concat([ct, ct_i]).sort_index()"
   ]
  },
  {
   "cell_type": "code",
   "execution_count": 30,
   "metadata": {},
   "outputs": [
    {
     "data": {
      "application/vnd.plotly.v1+json": {
       "config": {
        "plotlyServerURL": "https://plot.ly"
       },
       "data": [
        {
         "alignmentgroup": "True",
         "hovertemplate": "variable=Train Time<br>value=%{x}<br>Model=%{y}<extra></extra>",
         "legendgroup": "Train Time",
         "marker": {
          "color": "#636efa",
          "pattern": {
           "shape": ""
          }
         },
         "name": "Train Time",
         "offsetgroup": "Train Time",
         "orientation": "h",
         "showlegend": true,
         "textposition": "auto",
         "texttemplate": "%{x}",
         "type": "bar",
         "x": [
          0.3979433000058634,
          0.10011,
          0.007638,
          0.01007,
          0.390194599996903,
          0.15678,
          28.598002900005667,
          34.07788
         ],
         "xaxis": "x",
         "y": [
          "Decision Tree Classifier",
          "Decision Tree Classifier Tuned",
          "KNN",
          "KNN Tuned",
          "Logistics Regression",
          "Logistics Regression Tuned",
          "SVC",
          "SVC Tuned"
         ],
         "yaxis": "y"
        },
        {
         "alignmentgroup": "True",
         "hovertemplate": "variable=Train Accuracy<br>value=%{x}<br>Model=%{y}<extra></extra>",
         "legendgroup": "Train Accuracy",
         "marker": {
          "color": "#EF553B",
          "pattern": {
           "shape": ""
          }
         },
         "name": "Train Accuracy",
         "offsetgroup": "Train Accuracy",
         "orientation": "h",
         "showlegend": true,
         "textposition": "auto",
         "texttemplate": "%{x}",
         "type": "bar",
         "x": [
          1,
          0.88724,
          0.92765,
          0.91506,
          0.90972,
          0.90923,
          0.91821,
          0.91946
         ],
         "xaxis": "x",
         "y": [
          "Decision Tree Classifier",
          "Decision Tree Classifier Tuned",
          "KNN",
          "KNN Tuned",
          "Logistics Regression",
          "Logistics Regression Tuned",
          "SVC",
          "SVC Tuned"
         ],
         "yaxis": "y"
        },
        {
         "alignmentgroup": "True",
         "hovertemplate": "variable=Test Accuracy<br>value=%{x}<br>Model=%{y}<extra></extra>",
         "legendgroup": "Test Accuracy",
         "marker": {
          "color": "#00cc96",
          "pattern": {
           "shape": ""
          }
         },
         "name": "Test Accuracy",
         "offsetgroup": "Test Accuracy",
         "orientation": "h",
         "showlegend": true,
         "textposition": "auto",
         "texttemplate": "%{x}",
         "type": "bar",
         "x": [
          0.88792,
          0.88759,
          0.90022,
          0.90831,
          0.9105,
          0.9109,
          0.90944,
          0.91106
         ],
         "xaxis": "x",
         "y": [
          "Decision Tree Classifier",
          "Decision Tree Classifier Tuned",
          "KNN",
          "KNN Tuned",
          "Logistics Regression",
          "Logistics Regression Tuned",
          "SVC",
          "SVC Tuned"
         ],
         "yaxis": "y"
        }
       ],
       "layout": {
        "barmode": "group",
        "height": 800,
        "legend": {
         "title": {
          "text": "variable"
         },
         "tracegroupgap": 0
        },
        "template": {
         "data": {
          "bar": [
           {
            "error_x": {
             "color": "#2a3f5f"
            },
            "error_y": {
             "color": "#2a3f5f"
            },
            "marker": {
             "line": {
              "color": "#E5ECF6",
              "width": 0.5
             },
             "pattern": {
              "fillmode": "overlay",
              "size": 10,
              "solidity": 0.2
             }
            },
            "type": "bar"
           }
          ],
          "barpolar": [
           {
            "marker": {
             "line": {
              "color": "#E5ECF6",
              "width": 0.5
             },
             "pattern": {
              "fillmode": "overlay",
              "size": 10,
              "solidity": 0.2
             }
            },
            "type": "barpolar"
           }
          ],
          "carpet": [
           {
            "aaxis": {
             "endlinecolor": "#2a3f5f",
             "gridcolor": "white",
             "linecolor": "white",
             "minorgridcolor": "white",
             "startlinecolor": "#2a3f5f"
            },
            "baxis": {
             "endlinecolor": "#2a3f5f",
             "gridcolor": "white",
             "linecolor": "white",
             "minorgridcolor": "white",
             "startlinecolor": "#2a3f5f"
            },
            "type": "carpet"
           }
          ],
          "choropleth": [
           {
            "colorbar": {
             "outlinewidth": 0,
             "ticks": ""
            },
            "type": "choropleth"
           }
          ],
          "contour": [
           {
            "colorbar": {
             "outlinewidth": 0,
             "ticks": ""
            },
            "colorscale": [
             [
              0,
              "#0d0887"
             ],
             [
              0.1111111111111111,
              "#46039f"
             ],
             [
              0.2222222222222222,
              "#7201a8"
             ],
             [
              0.3333333333333333,
              "#9c179e"
             ],
             [
              0.4444444444444444,
              "#bd3786"
             ],
             [
              0.5555555555555556,
              "#d8576b"
             ],
             [
              0.6666666666666666,
              "#ed7953"
             ],
             [
              0.7777777777777778,
              "#fb9f3a"
             ],
             [
              0.8888888888888888,
              "#fdca26"
             ],
             [
              1,
              "#f0f921"
             ]
            ],
            "type": "contour"
           }
          ],
          "contourcarpet": [
           {
            "colorbar": {
             "outlinewidth": 0,
             "ticks": ""
            },
            "type": "contourcarpet"
           }
          ],
          "heatmap": [
           {
            "colorbar": {
             "outlinewidth": 0,
             "ticks": ""
            },
            "colorscale": [
             [
              0,
              "#0d0887"
             ],
             [
              0.1111111111111111,
              "#46039f"
             ],
             [
              0.2222222222222222,
              "#7201a8"
             ],
             [
              0.3333333333333333,
              "#9c179e"
             ],
             [
              0.4444444444444444,
              "#bd3786"
             ],
             [
              0.5555555555555556,
              "#d8576b"
             ],
             [
              0.6666666666666666,
              "#ed7953"
             ],
             [
              0.7777777777777778,
              "#fb9f3a"
             ],
             [
              0.8888888888888888,
              "#fdca26"
             ],
             [
              1,
              "#f0f921"
             ]
            ],
            "type": "heatmap"
           }
          ],
          "heatmapgl": [
           {
            "colorbar": {
             "outlinewidth": 0,
             "ticks": ""
            },
            "colorscale": [
             [
              0,
              "#0d0887"
             ],
             [
              0.1111111111111111,
              "#46039f"
             ],
             [
              0.2222222222222222,
              "#7201a8"
             ],
             [
              0.3333333333333333,
              "#9c179e"
             ],
             [
              0.4444444444444444,
              "#bd3786"
             ],
             [
              0.5555555555555556,
              "#d8576b"
             ],
             [
              0.6666666666666666,
              "#ed7953"
             ],
             [
              0.7777777777777778,
              "#fb9f3a"
             ],
             [
              0.8888888888888888,
              "#fdca26"
             ],
             [
              1,
              "#f0f921"
             ]
            ],
            "type": "heatmapgl"
           }
          ],
          "histogram": [
           {
            "marker": {
             "pattern": {
              "fillmode": "overlay",
              "size": 10,
              "solidity": 0.2
             }
            },
            "type": "histogram"
           }
          ],
          "histogram2d": [
           {
            "colorbar": {
             "outlinewidth": 0,
             "ticks": ""
            },
            "colorscale": [
             [
              0,
              "#0d0887"
             ],
             [
              0.1111111111111111,
              "#46039f"
             ],
             [
              0.2222222222222222,
              "#7201a8"
             ],
             [
              0.3333333333333333,
              "#9c179e"
             ],
             [
              0.4444444444444444,
              "#bd3786"
             ],
             [
              0.5555555555555556,
              "#d8576b"
             ],
             [
              0.6666666666666666,
              "#ed7953"
             ],
             [
              0.7777777777777778,
              "#fb9f3a"
             ],
             [
              0.8888888888888888,
              "#fdca26"
             ],
             [
              1,
              "#f0f921"
             ]
            ],
            "type": "histogram2d"
           }
          ],
          "histogram2dcontour": [
           {
            "colorbar": {
             "outlinewidth": 0,
             "ticks": ""
            },
            "colorscale": [
             [
              0,
              "#0d0887"
             ],
             [
              0.1111111111111111,
              "#46039f"
             ],
             [
              0.2222222222222222,
              "#7201a8"
             ],
             [
              0.3333333333333333,
              "#9c179e"
             ],
             [
              0.4444444444444444,
              "#bd3786"
             ],
             [
              0.5555555555555556,
              "#d8576b"
             ],
             [
              0.6666666666666666,
              "#ed7953"
             ],
             [
              0.7777777777777778,
              "#fb9f3a"
             ],
             [
              0.8888888888888888,
              "#fdca26"
             ],
             [
              1,
              "#f0f921"
             ]
            ],
            "type": "histogram2dcontour"
           }
          ],
          "mesh3d": [
           {
            "colorbar": {
             "outlinewidth": 0,
             "ticks": ""
            },
            "type": "mesh3d"
           }
          ],
          "parcoords": [
           {
            "line": {
             "colorbar": {
              "outlinewidth": 0,
              "ticks": ""
             }
            },
            "type": "parcoords"
           }
          ],
          "pie": [
           {
            "automargin": true,
            "type": "pie"
           }
          ],
          "scatter": [
           {
            "fillpattern": {
             "fillmode": "overlay",
             "size": 10,
             "solidity": 0.2
            },
            "type": "scatter"
           }
          ],
          "scatter3d": [
           {
            "line": {
             "colorbar": {
              "outlinewidth": 0,
              "ticks": ""
             }
            },
            "marker": {
             "colorbar": {
              "outlinewidth": 0,
              "ticks": ""
             }
            },
            "type": "scatter3d"
           }
          ],
          "scattercarpet": [
           {
            "marker": {
             "colorbar": {
              "outlinewidth": 0,
              "ticks": ""
             }
            },
            "type": "scattercarpet"
           }
          ],
          "scattergeo": [
           {
            "marker": {
             "colorbar": {
              "outlinewidth": 0,
              "ticks": ""
             }
            },
            "type": "scattergeo"
           }
          ],
          "scattergl": [
           {
            "marker": {
             "colorbar": {
              "outlinewidth": 0,
              "ticks": ""
             }
            },
            "type": "scattergl"
           }
          ],
          "scattermapbox": [
           {
            "marker": {
             "colorbar": {
              "outlinewidth": 0,
              "ticks": ""
             }
            },
            "type": "scattermapbox"
           }
          ],
          "scatterpolar": [
           {
            "marker": {
             "colorbar": {
              "outlinewidth": 0,
              "ticks": ""
             }
            },
            "type": "scatterpolar"
           }
          ],
          "scatterpolargl": [
           {
            "marker": {
             "colorbar": {
              "outlinewidth": 0,
              "ticks": ""
             }
            },
            "type": "scatterpolargl"
           }
          ],
          "scatterternary": [
           {
            "marker": {
             "colorbar": {
              "outlinewidth": 0,
              "ticks": ""
             }
            },
            "type": "scatterternary"
           }
          ],
          "surface": [
           {
            "colorbar": {
             "outlinewidth": 0,
             "ticks": ""
            },
            "colorscale": [
             [
              0,
              "#0d0887"
             ],
             [
              0.1111111111111111,
              "#46039f"
             ],
             [
              0.2222222222222222,
              "#7201a8"
             ],
             [
              0.3333333333333333,
              "#9c179e"
             ],
             [
              0.4444444444444444,
              "#bd3786"
             ],
             [
              0.5555555555555556,
              "#d8576b"
             ],
             [
              0.6666666666666666,
              "#ed7953"
             ],
             [
              0.7777777777777778,
              "#fb9f3a"
             ],
             [
              0.8888888888888888,
              "#fdca26"
             ],
             [
              1,
              "#f0f921"
             ]
            ],
            "type": "surface"
           }
          ],
          "table": [
           {
            "cells": {
             "fill": {
              "color": "#EBF0F8"
             },
             "line": {
              "color": "white"
             }
            },
            "header": {
             "fill": {
              "color": "#C8D4E3"
             },
             "line": {
              "color": "white"
             }
            },
            "type": "table"
           }
          ]
         },
         "layout": {
          "annotationdefaults": {
           "arrowcolor": "#2a3f5f",
           "arrowhead": 0,
           "arrowwidth": 1
          },
          "autotypenumbers": "strict",
          "coloraxis": {
           "colorbar": {
            "outlinewidth": 0,
            "ticks": ""
           }
          },
          "colorscale": {
           "diverging": [
            [
             0,
             "#8e0152"
            ],
            [
             0.1,
             "#c51b7d"
            ],
            [
             0.2,
             "#de77ae"
            ],
            [
             0.3,
             "#f1b6da"
            ],
            [
             0.4,
             "#fde0ef"
            ],
            [
             0.5,
             "#f7f7f7"
            ],
            [
             0.6,
             "#e6f5d0"
            ],
            [
             0.7,
             "#b8e186"
            ],
            [
             0.8,
             "#7fbc41"
            ],
            [
             0.9,
             "#4d9221"
            ],
            [
             1,
             "#276419"
            ]
           ],
           "sequential": [
            [
             0,
             "#0d0887"
            ],
            [
             0.1111111111111111,
             "#46039f"
            ],
            [
             0.2222222222222222,
             "#7201a8"
            ],
            [
             0.3333333333333333,
             "#9c179e"
            ],
            [
             0.4444444444444444,
             "#bd3786"
            ],
            [
             0.5555555555555556,
             "#d8576b"
            ],
            [
             0.6666666666666666,
             "#ed7953"
            ],
            [
             0.7777777777777778,
             "#fb9f3a"
            ],
            [
             0.8888888888888888,
             "#fdca26"
            ],
            [
             1,
             "#f0f921"
            ]
           ],
           "sequentialminus": [
            [
             0,
             "#0d0887"
            ],
            [
             0.1111111111111111,
             "#46039f"
            ],
            [
             0.2222222222222222,
             "#7201a8"
            ],
            [
             0.3333333333333333,
             "#9c179e"
            ],
            [
             0.4444444444444444,
             "#bd3786"
            ],
            [
             0.5555555555555556,
             "#d8576b"
            ],
            [
             0.6666666666666666,
             "#ed7953"
            ],
            [
             0.7777777777777778,
             "#fb9f3a"
            ],
            [
             0.8888888888888888,
             "#fdca26"
            ],
            [
             1,
             "#f0f921"
            ]
           ]
          },
          "colorway": [
           "#636efa",
           "#EF553B",
           "#00cc96",
           "#ab63fa",
           "#FFA15A",
           "#19d3f3",
           "#FF6692",
           "#B6E880",
           "#FF97FF",
           "#FECB52"
          ],
          "font": {
           "color": "#2a3f5f"
          },
          "geo": {
           "bgcolor": "white",
           "lakecolor": "white",
           "landcolor": "#E5ECF6",
           "showlakes": true,
           "showland": true,
           "subunitcolor": "white"
          },
          "hoverlabel": {
           "align": "left"
          },
          "hovermode": "closest",
          "mapbox": {
           "style": "light"
          },
          "paper_bgcolor": "white",
          "plot_bgcolor": "#E5ECF6",
          "polar": {
           "angularaxis": {
            "gridcolor": "white",
            "linecolor": "white",
            "ticks": ""
           },
           "bgcolor": "#E5ECF6",
           "radialaxis": {
            "gridcolor": "white",
            "linecolor": "white",
            "ticks": ""
           }
          },
          "scene": {
           "xaxis": {
            "backgroundcolor": "#E5ECF6",
            "gridcolor": "white",
            "gridwidth": 2,
            "linecolor": "white",
            "showbackground": true,
            "ticks": "",
            "zerolinecolor": "white"
           },
           "yaxis": {
            "backgroundcolor": "#E5ECF6",
            "gridcolor": "white",
            "gridwidth": 2,
            "linecolor": "white",
            "showbackground": true,
            "ticks": "",
            "zerolinecolor": "white"
           },
           "zaxis": {
            "backgroundcolor": "#E5ECF6",
            "gridcolor": "white",
            "gridwidth": 2,
            "linecolor": "white",
            "showbackground": true,
            "ticks": "",
            "zerolinecolor": "white"
           }
          },
          "shapedefaults": {
           "line": {
            "color": "#2a3f5f"
           }
          },
          "ternary": {
           "aaxis": {
            "gridcolor": "white",
            "linecolor": "white",
            "ticks": ""
           },
           "baxis": {
            "gridcolor": "white",
            "linecolor": "white",
            "ticks": ""
           },
           "bgcolor": "#E5ECF6",
           "caxis": {
            "gridcolor": "white",
            "linecolor": "white",
            "ticks": ""
           }
          },
          "title": {
           "x": 0.05
          },
          "xaxis": {
           "automargin": true,
           "gridcolor": "white",
           "linecolor": "white",
           "ticks": "",
           "title": {
            "standoff": 15
           },
           "zerolinecolor": "white",
           "zerolinewidth": 2
          },
          "yaxis": {
           "automargin": true,
           "gridcolor": "white",
           "linecolor": "white",
           "ticks": "",
           "title": {
            "standoff": 15
           },
           "zerolinecolor": "white",
           "zerolinewidth": 2
          }
         }
        },
        "title": {
         "text": "Model Performance"
        },
        "width": 1000,
        "xaxis": {
         "anchor": "y",
         "domain": [
          0,
          1
         ],
         "title": {
          "text": "value"
         }
        },
        "yaxis": {
         "anchor": "x",
         "domain": [
          0,
          1
         ],
         "title": {
          "text": "Model"
         }
        }
       }
      }
     },
     "metadata": {},
     "output_type": "display_data"
    }
   ],
   "source": [
    "## Generate the Model performance comparison\n",
    "fig = px.bar(counter, y=counter.index, x=['Train Time', 'Train Accuracy','Test Accuracy'], title='Model Performance',barmode='group', width=1000, height=800,text_auto=True, orientation='h')\n",
    "fig.show()"
   ]
  },
  {
   "cell_type": "code",
   "execution_count": 31,
   "metadata": {},
   "outputs": [
    {
     "data": {
      "image/png": "[encoded data removed]",
      "text/plain": [
       "<Figure size 640x480 with 1 Axes>"
      ]
     },
     "metadata": {},
     "output_type": "display_data"
    }
   ],
   "source": [
    "## Drawing the ROC curve for the models to analyse the classifier performance   \n",
    "\n",
    "from sklearn.metrics import roc_curve, roc_auc_score\n",
    "import matplotlib.pyplot as plt\n",
    "\n",
    "\n",
    "# Calculate the false positive and true positive for all the models \n",
    "fpr_lr, tpr_lr, thresholds_lr = roc_curve(y_train, pTr_lr)\n",
    "fpr_knn, tpr_knn, thresholds_knn = roc_curve(y_train, pTr_knn)\n",
    "fpr_dtc, tpr_dtc, thresholds_dtc = roc_curve(y_train, pTr_dtc)\n",
    "fpr_svc, tpr_svc, thresholds_svc = roc_curve(y_train, pTr_svc)\n",
    "\n",
    "# Calculate the AUC (Area Under the Curve)\n",
    "roc_auc_lr = roc_auc_score(y_train, pTr_lr )\n",
    "roc_auc_knn = roc_auc_score(y_train, pTr_knn )\n",
    "roc_auc_dtc = roc_auc_score(y_train, pTr_dtc )\n",
    "roc_auc_svc = roc_auc_score(y_train, pTr_svc )\n",
    "\n",
    "# Plot the ROC curve\n",
    "plt.figure()\n",
    "plt.plot(fpr_lr, tpr_lr, color='darkblue', lw=2, label='ROC curve logistic regression (area = %0.2f)' % roc_auc_lr)\n",
    "plt.plot(fpr_knn, tpr_knn, color='darkolivegreen', lw=2, label='ROC curve KNN (area = %0.2f)' % roc_auc_knn)\n",
    "plt.plot(fpr_dtc, tpr_dtc, color='yellow', lw=2, label='ROC curve decision tree (area = %0.2f)' % roc_auc_dtc)\n",
    "plt.plot(fpr_svc, tpr_svc, color='darkorange', lw=2, label='ROC curve support vector(area = %0.2f)' % roc_auc_svc)\n",
    "plt.plot([0, 1], [0, 1], color='navy', lw=2, linestyle='--')\n",
    "plt.xlabel('False Positive Rate')\n",
    "plt.ylabel('True Positive Rate')\n",
    "plt.title('Receiver Operating Characteristic (ROC) Curve')\n",
    "plt.legend(loc=\"lower right\")\n",
    "plt.show()"
   ]
  },
  {
   "cell_type": "code",
   "execution_count": 32,
   "metadata": {},
   "outputs": [],
   "source": [
    "### Conclusion ###\n",
    "# After tuning the models on hyperparameters the SVC and KNN looks to perform better in terms of prediction. \n",
    "# The only drawback of SVC is time & resource consumption, rest it tops on all the scores & parameters including the ROC area. \n",
    "#   "
   ]
  },
  {
   "cell_type": "markdown",
   "metadata": {},
   "source": [
    "##### Questions"
   ]
  },
  {
   "cell_type": "code",
   "execution_count": 34,
   "metadata": {},
   "outputs": [
    {
     "data": {
      "text/html": [
       "<div>\n",
       "<style scoped>\n",
       "    .dataframe tbody tr th:only-of-type {\n",
       "        vertical-align: middle;\n",
       "    }\n",
       "\n",
       "    .dataframe tbody tr th {\n",
       "        vertical-align: top;\n",
       "    }\n",
       "\n",
       "    .dataframe thead th {\n",
       "        text-align: right;\n",
       "    }\n",
       "</style>\n",
       "<table border=\"1\" class=\"dataframe\">\n",
       "  <thead>\n",
       "    <tr style=\"text-align: right;\">\n",
       "      <th></th>\n",
       "      <th>Train Time</th>\n",
       "      <th>Train Accuracy</th>\n",
       "      <th>Test Accuracy</th>\n",
       "    </tr>\n",
       "    <tr>\n",
       "      <th>Model</th>\n",
       "      <th></th>\n",
       "      <th></th>\n",
       "      <th></th>\n",
       "    </tr>\n",
       "  </thead>\n",
       "  <tbody>\n",
       "    <tr>\n",
       "      <th>Logistics Regression Tuned</th>\n",
       "      <td>0.15678</td>\n",
       "      <td>0.90923</td>\n",
       "      <td>0.91090</td>\n",
       "    </tr>\n",
       "    <tr>\n",
       "      <th>KNN Tuned</th>\n",
       "      <td>0.01007</td>\n",
       "      <td>0.91506</td>\n",
       "      <td>0.90831</td>\n",
       "    </tr>\n",
       "    <tr>\n",
       "      <th>Decision Tree Classifier Tuned</th>\n",
       "      <td>0.10011</td>\n",
       "      <td>0.88724</td>\n",
       "      <td>0.88759</td>\n",
       "    </tr>\n",
       "    <tr>\n",
       "      <th>SVC Tuned</th>\n",
       "      <td>34.07788</td>\n",
       "      <td>0.91946</td>\n",
       "      <td>0.91106</td>\n",
       "    </tr>\n",
       "  </tbody>\n",
       "</table>\n",
       "</div>"
      ],
      "text/plain": [
       "                                Train Time  Train Accuracy  Test Accuracy\n",
       "Model                                                                    \n",
       "Logistics Regression Tuned         0.15678         0.90923        0.91090\n",
       "KNN Tuned                          0.01007         0.91506        0.90831\n",
       "Decision Tree Classifier Tuned     0.10011         0.88724        0.88759\n",
       "SVC Tuned                         34.07788         0.91946        0.91106"
      ]
     },
     "execution_count": 34,
     "metadata": {},
     "output_type": "execute_result"
    }
   ],
   "source": [
    "ct_i"
   ]
  },
  {
   "cell_type": "code",
   "execution_count": 35,
   "metadata": {},
   "outputs": [
    {
     "data": {
      "text/html": [
       "<div>\n",
       "<style scoped>\n",
       "    .dataframe tbody tr th:only-of-type {\n",
       "        vertical-align: middle;\n",
       "    }\n",
       "\n",
       "    .dataframe tbody tr th {\n",
       "        vertical-align: top;\n",
       "    }\n",
       "\n",
       "    .dataframe thead th {\n",
       "        text-align: right;\n",
       "    }\n",
       "</style>\n",
       "<table border=\"1\" class=\"dataframe\">\n",
       "  <thead>\n",
       "    <tr style=\"text-align: right;\">\n",
       "      <th></th>\n",
       "      <th>Train Time</th>\n",
       "      <th>Train Accuracy</th>\n",
       "      <th>Test Accuracy</th>\n",
       "    </tr>\n",
       "    <tr>\n",
       "      <th>Model</th>\n",
       "      <th></th>\n",
       "      <th></th>\n",
       "      <th></th>\n",
       "    </tr>\n",
       "  </thead>\n",
       "  <tbody>\n",
       "    <tr>\n",
       "      <th>Decision Tree Classifier</th>\n",
       "      <td>0.397943</td>\n",
       "      <td>1.00000</td>\n",
       "      <td>0.88792</td>\n",
       "    </tr>\n",
       "    <tr>\n",
       "      <th>Decision Tree Classifier Tuned</th>\n",
       "      <td>0.100110</td>\n",
       "      <td>0.88724</td>\n",
       "      <td>0.88759</td>\n",
       "    </tr>\n",
       "    <tr>\n",
       "      <th>KNN</th>\n",
       "      <td>0.007638</td>\n",
       "      <td>0.92765</td>\n",
       "      <td>0.90022</td>\n",
       "    </tr>\n",
       "    <tr>\n",
       "      <th>KNN Tuned</th>\n",
       "      <td>0.010070</td>\n",
       "      <td>0.91506</td>\n",
       "      <td>0.90831</td>\n",
       "    </tr>\n",
       "    <tr>\n",
       "      <th>Logistics Regression</th>\n",
       "      <td>0.390195</td>\n",
       "      <td>0.90972</td>\n",
       "      <td>0.91050</td>\n",
       "    </tr>\n",
       "    <tr>\n",
       "      <th>Logistics Regression Tuned</th>\n",
       "      <td>0.156780</td>\n",
       "      <td>0.90923</td>\n",
       "      <td>0.91090</td>\n",
       "    </tr>\n",
       "    <tr>\n",
       "      <th>SVC</th>\n",
       "      <td>28.598003</td>\n",
       "      <td>0.91821</td>\n",
       "      <td>0.90944</td>\n",
       "    </tr>\n",
       "    <tr>\n",
       "      <th>SVC Tuned</th>\n",
       "      <td>34.077880</td>\n",
       "      <td>0.91946</td>\n",
       "      <td>0.91106</td>\n",
       "    </tr>\n",
       "  </tbody>\n",
       "</table>\n",
       "</div>"
      ],
      "text/plain": [
       "                                Train Time  Train Accuracy  Test Accuracy\n",
       "Model                                                                    \n",
       "Decision Tree Classifier          0.397943         1.00000        0.88792\n",
       "Decision Tree Classifier Tuned    0.100110         0.88724        0.88759\n",
       "KNN                               0.007638         0.92765        0.90022\n",
       "KNN Tuned                         0.010070         0.91506        0.90831\n",
       "Logistics Regression              0.390195         0.90972        0.91050\n",
       "Logistics Regression Tuned        0.156780         0.90923        0.91090\n",
       "SVC                              28.598003         0.91821        0.90944\n",
       "SVC Tuned                        34.077880         0.91946        0.91106"
      ]
     },
     "execution_count": 35,
     "metadata": {},
     "output_type": "execute_result"
    }
   ],
   "source": [
    "counter"
   ]
  },
  {
   "cell_type": "code",
   "execution_count": null,
   "metadata": {},
   "outputs": [],
   "source": []
  }
 ],
 "metadata": {
  "kernelspec": {
   "display_name": "base",
   "language": "python",
   "name": "python3"
  },
  "language_info": {
   "codemirror_mode": {
    "name": "ipython",
    "version": 3
   },
   "file_extension": ".py",
   "mimetype": "text/x-python",
   "name": "python",
   "nbconvert_exporter": "python",
   "pygments_lexer": "ipython3",
   "version": "3.11.7"
  },
  "widgets": {
   "application/vnd.jupyter.widget-state+json": {
    "state": {},
    "version_major": 2,
    "version_minor": 0
   }
  }
 },
 "nbformat": 4,
 "nbformat_minor": 4
}
